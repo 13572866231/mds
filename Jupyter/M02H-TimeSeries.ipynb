{
    "nbformat": 4, 
    "cells": [
        {
            "source": "# FLIP (00)Data Vis and Linear Algebra\n\n---\nTeam Director: Xiaojuan Cheng | xjcheng@tulip.academy<br />\n\nTULIP Academy <br />\nhttp://www.tulip.academy\n\n---\n\n## Introduction\n\nThis lesson,we will learn how to handle time data with a stock case,including reading the time series,DateOffset and TimeDelta,Time Series Function.\n\n\n", 
            "cell_type": "markdown", 
            "metadata": {}
        }, 
        {
            "outputs": [], 
            "execution_count": null, 
            "cell_type": "code", 
            "source": "import pandas as pd\nimport numpy as np\n\nimport matplotlib.pyplot as plt\nimport seaborn as sns\nfrom datetime import datetime\n\nsns.set_style('whitegrid')\n%matplotlib inline\npd.set_option('display.max_columns', 10)\npd.set_option('display.max_rows', 10)", 
            "metadata": {}
        }, 
        {
            "source": "### Read the time series", 
            "cell_type": "markdown", 
            "metadata": {}
        }, 
        {
            "outputs": [], 
            "execution_count": null, 
            "cell_type": "code", 
            "source": "import wget\n\nlink_to_data = 'https://github.com/tuliplab/mds/raw/master/Jupyter/data/gertek_2016_d.csv'\nDataSet = wget.download(link_to_data)", 
            "metadata": {}
        }, 
        {
            "outputs": [], 
            "execution_count": null, 
            "cell_type": "code", 
            "source": "goertek=pd.read_csv('gertek_2016_d.csv')\ngoertek.head()", 
            "metadata": {}
        }, 
        {
            "outputs": [], 
            "execution_count": null, 
            "cell_type": "code", 
            "source": "type(goertek['date'])", 
            "metadata": {}
        }, 
        {
            "outputs": [], 
            "execution_count": null, 
            "cell_type": "code", 
            "source": "type(goertek['date'][0])", 
            "metadata": {}
        }, 
        {
            "outputs": [], 
            "execution_count": null, 
            "cell_type": "code", 
            "source": "goertek['date']=pd.to_datetime(goertek['date'])\ntype(goertek['date'][0])", 
            "metadata": {}
        }, 
        {
            "outputs": [], 
            "execution_count": null, 
            "cell_type": "code", 
            "source": "goertek=goertek.set_index('date')\ngoertek.head()", 
            "metadata": {}
        }, 
        {
            "outputs": [], 
            "execution_count": null, 
            "cell_type": "code", 
            "source": "type(goertek.index)", 
            "metadata": {}
        }, 
        {
            "outputs": [], 
            "execution_count": null, 
            "cell_type": "code", 
            "source": "goertek=pd.read_csv('gertek_2016_d.csv',index_col='date',parse_dates=True)\ngoertek.head()", 
            "metadata": {}
        }, 
        {
            "outputs": [], 
            "execution_count": null, 
            "cell_type": "code", 
            "source": "type(goertek.index)", 
            "metadata": {}
        }, 
        {
            "source": "### DateOffset and TimeDelta", 
            "cell_type": "markdown", 
            "metadata": {}
        }, 
        {
            "outputs": [], 
            "execution_count": null, 
            "cell_type": "code", 
            "source": "lastday=pd.datetime(2016,12,31)\nlastday", 
            "metadata": {}
        }, 
        {
            "outputs": [], 
            "execution_count": null, 
            "cell_type": "code", 
            "source": "newyear=lastday+pd.DateOffset(days=1)\nnewyear", 
            "metadata": {}
        }, 
        {
            "outputs": [], 
            "execution_count": null, 
            "cell_type": "code", 
            "source": "today=pd.datetime.now()\ntoday", 
            "metadata": {}
        }, 
        {
            "outputs": [], 
            "execution_count": null, 
            "cell_type": "code", 
            "source": "today+pd.DateOffset(weeks=1)", 
            "metadata": {}
        }, 
        {
            "outputs": [], 
            "execution_count": null, 
            "cell_type": "code", 
            "source": "today+2*pd.DateOffset(years=2, months=6)", 
            "metadata": {}
        }, 
        {
            "outputs": [], 
            "execution_count": null, 
            "cell_type": "code", 
            "source": "import datetime", 
            "metadata": {}
        }, 
        {
            "outputs": [], 
            "execution_count": null, 
            "cell_type": "code", 
            "source": "weekDelta=datetime.timedelta(weeks=1)\nweekDelta", 
            "metadata": {}
        }, 
        {
            "outputs": [], 
            "execution_count": null, 
            "cell_type": "code", 
            "source": "datetime.timedelta(7)", 
            "metadata": {}
        }, 
        {
            "outputs": [], 
            "execution_count": null, 
            "cell_type": "code", 
            "source": "today=pd.datetime.now()", 
            "metadata": {}
        }, 
        {
            "outputs": [], 
            "execution_count": null, 
            "cell_type": "code", 
            "source": "today+weekDelta", 
            "metadata": {}
        }, 
        {
            "source": "### Time Series Function", 
            "cell_type": "markdown", 
            "metadata": {}
        }, 
        {
            "outputs": [], 
            "execution_count": null, 
            "cell_type": "code", 
            "source": "goertek=goertek.sort_index(ascending=True)\ngoertek.head()", 
            "metadata": {}
        }, 
        {
            "outputs": [], 
            "execution_count": null, 
            "cell_type": "code", 
            "source": "goertek.tail()", 
            "metadata": {}
        }, 
        {
            "outputs": [], 
            "execution_count": null, 
            "cell_type": "code", 
            "source": "goertek.shift(1).head(3)", 
            "metadata": {
                "scrolled": true
            }
        }, 
        {
            "outputs": [], 
            "execution_count": null, 
            "cell_type": "code", 
            "source": "goertek.shift(1,freq=pd.datetools.bday).head(3)", 
            "metadata": {}
        }, 
        {
            "outputs": [], 
            "execution_count": null, 
            "cell_type": "code", 
            "source": "goertek.asfreq('BM')", 
            "metadata": {}
        }, 
        {
            "outputs": [], 
            "execution_count": null, 
            "cell_type": "code", 
            "source": "goertek.asfreq('H',method='ffill')", 
            "metadata": {}
        }, 
        {
            "outputs": [], 
            "execution_count": null, 
            "cell_type": "code", 
            "source": "goertek_m=pd.read_csv('gertek_2016_d.csv',parse_dates=True,index_col='date')", 
            "metadata": {}
        }, 
        {
            "outputs": [], 
            "execution_count": null, 
            "cell_type": "code", 
            "source": "goertek_m.head()", 
            "metadata": {}
        }, 
        {
            "outputs": [], 
            "execution_count": null, 
            "cell_type": "code", 
            "source": "goertek_resample=goertek_m.resample('30Min') #pandas 0.18 http://pandas.pydata.org/pandas-docs/version/0.18.0/whatsnew.html#resample-api", 
            "metadata": {}
        }, 
        {
            "outputs": [], 
            "execution_count": null, 
            "cell_type": "code", 
            "source": "type(goertek_resample)", 
            "metadata": {}
        }, 
        {
            "outputs": [], 
            "execution_count": null, 
            "cell_type": "code", 
            "source": "goertek_resample.mean()", 
            "metadata": {}
        }, 
        {
            "source": "+ B, BM: This stands for business day, business month. These are the working\ndays of the month, that is, any day that is not a holiday or a weekend.\n+  D, W, M, Q, A: It stands for calendar day, week, month, quarter, year-end.\n+  H, T, S, L, U: It stands for hour, minute, second, millisecond, and\nmicrosecond.", 
            "cell_type": "markdown", 
            "metadata": {}
        }, 
        {
            "source": "### Stock datas case", 
            "cell_type": "markdown", 
            "metadata": {}
        }, 
        {
            "outputs": [], 
            "execution_count": null, 
            "cell_type": "code", 
            "source": "#!pip install tushare\n\n#!pip install --force-reinstall --upgrade tushare", 
            "metadata": {}
        }, 
        {
            "outputs": [], 
            "execution_count": null, 
            "cell_type": "code", 
            "source": "#!ls -l ./", 
            "metadata": {}
        }, 
        {
            "outputs": [], 
            "execution_count": null, 
            "cell_type": "code", 
            "source": "import tushare as ts\nfrom datetime import datetime", 
            "metadata": {}
        }, 
        {
            "outputs": [], 
            "execution_count": null, 
            "cell_type": "code", 
            "source": "auto_list=['000625','600104','002594','601238']\n#auto_var=['changan','sqjt','byd','gqjt']", 
            "metadata": {}
        }, 
        {
            "outputs": [], 
            "execution_count": null, 
            "cell_type": "code", 
            "source": "#for stock,var in zip(auto_list,auto_var):\n#    globals()[var] = ts.get_h_data(stock,'2016-01-01','2016-12-23')\nchangan=ts.get_h_data('000625','2016-01-01','2016-12-23')", 
            "metadata": {}
        }, 
        {
            "outputs": [], 
            "execution_count": null, 
            "cell_type": "code", 
            "source": "sqjt=ts.get_h_data('600104','2016-01-01','2016-12-23')", 
            "metadata": {}
        }, 
        {
            "outputs": [], 
            "execution_count": null, 
            "cell_type": "code", 
            "source": "byd=ts.get_h_data('002594','2016-01-01','2016-12-23')", 
            "metadata": {}
        }, 
        {
            "outputs": [], 
            "execution_count": null, 
            "cell_type": "code", 
            "source": "gqjt=ts.get_h_data('601238','2016-01-01','2016-12-23')", 
            "metadata": {}
        }, 
        {
            "outputs": [], 
            "execution_count": null, 
            "cell_type": "code", 
            "source": "#changan=pd.read_csv('../data/changan.csv',index_col='date',parse_dates=True)\nchangan.head()", 
            "metadata": {}
        }, 
        {
            "outputs": [], 
            "execution_count": null, 
            "cell_type": "code", 
            "source": "changan.describe()", 
            "metadata": {
                "scrolled": true
            }
        }, 
        {
            "outputs": [], 
            "execution_count": null, 
            "cell_type": "code", 
            "source": "changan.info()", 
            "metadata": {
                "scrolled": true
            }
        }, 
        {
            "outputs": [], 
            "execution_count": null, 
            "cell_type": "code", 
            "source": "changan['close'].plot(legend=True,figsize=(10,4))", 
            "metadata": {}
        }, 
        {
            "outputs": [], 
            "execution_count": null, 
            "cell_type": "code", 
            "source": "changan['volume'].plot(legend=True,figsize=(10,4))", 
            "metadata": {}
        }, 
        {
            "outputs": [], 
            "execution_count": null, 
            "cell_type": "code", 
            "source": "ma_day = [10,20,50]\n\nfor ma in ma_day:\n    column_name = \"MA for %s days\" %(str(ma))\n    changan[column_name] = changan['close'].rolling(window=ma).mean()\n    #changan[column_name] = pd.rolling_mean(changan['close'],ma)", 
            "metadata": {}
        }, 
        {
            "outputs": [], 
            "execution_count": null, 
            "cell_type": "code", 
            "source": "changan[['close','MA for 10 days','MA for 20 days','MA for 50 days']].plot(subplots=False,figsize=(10,4))", 
            "metadata": {}
        }, 
        {
            "outputs": [], 
            "execution_count": null, 
            "cell_type": "code", 
            "source": "changan['Daily Return'] = changan['close'].pct_change()\nchangan['Daily Return'].plot(figsize=(10,4),legend=True,linestyle='--',marker='o')\n", 
            "metadata": {}
        }, 
        {
            "outputs": [], 
            "execution_count": null, 
            "cell_type": "code", 
            "source": "sns.distplot(changan['Daily Return'].dropna(),bins=100, color = 'purple');", 
            "metadata": {}
        }, 
        {
            "outputs": [], 
            "execution_count": null, 
            "cell_type": "code", 
            "source": "changan['Daily Return'].hist(bins=100)", 
            "metadata": {}
        }, 
        {
            "outputs": [], 
            "execution_count": null, 
            "cell_type": "code", 
            "source": "#gqjt=pd.read_csv('../data/gqjt_2016.csv',index_col='date',parse_dates=True)", 
            "metadata": {}
        }, 
        {
            "outputs": [], 
            "execution_count": null, 
            "cell_type": "code", 
            "source": "closing_df = pd.DataFrame({'changan':changan['close'],'gqjt':gqjt['close'],'byd':byd['close']})", 
            "metadata": {}
        }, 
        {
            "outputs": [], 
            "execution_count": null, 
            "cell_type": "code", 
            "source": "closing_df.head()", 
            "metadata": {}
        }, 
        {
            "outputs": [], 
            "execution_count": null, 
            "cell_type": "code", 
            "source": "auto_rets = closing_df.pct_change()", 
            "metadata": {}
        }, 
        {
            "outputs": [], 
            "execution_count": null, 
            "cell_type": "code", 
            "source": "auto_rets.head()", 
            "metadata": {}
        }, 
        {
            "outputs": [], 
            "execution_count": null, 
            "cell_type": "code", 
            "source": "sns.jointplot('changan','changan',auto_rets,\n              kind='scatter',color = 'seagreen')", 
            "metadata": {}
        }, 
        {
            "outputs": [], 
            "execution_count": null, 
            "cell_type": "code", 
            "source": "sns.jointplot('changan','byd',auto_rets,kind='scatter')", 
            "metadata": {}
        }, 
        {
            "outputs": [], 
            "execution_count": null, 
            "cell_type": "code", 
            "source": "sns.pairplot(auto_rets.dropna())", 
            "metadata": {}
        }, 
        {
            "outputs": [], 
            "execution_count": null, 
            "cell_type": "code", 
            "source": "sns.corrplot(closing_df,annot=True)", 
            "metadata": {}
        }, 
        {
            "outputs": [], 
            "execution_count": null, 
            "cell_type": "code", 
            "source": "corr=closing_df.corr()\ncorr", 
            "metadata": {}
        }, 
        {
            "outputs": [], 
            "execution_count": null, 
            "cell_type": "code", 
            "source": "sns.heatmap(corr,annot=True)", 
            "metadata": {}
        }, 
        {
            "outputs": [], 
            "execution_count": null, 
            "cell_type": "code", 
            "source": "sns.heatmap?", 
            "metadata": {}
        }, 
        {
            "outputs": [], 
            "execution_count": null, 
            "cell_type": "code", 
            "source": "", 
            "metadata": {}
        }
    ], 
    "metadata": {
        "language_info": {
            "pygments_lexer": "ipython2", 
            "nbconvert_exporter": "python", 
            "version": "2.7.11", 
            "mimetype": "text/x-python", 
            "name": "python", 
            "file_extension": ".py", 
            "codemirror_mode": {
                "version": 2, 
                "name": "ipython"
            }
        }, 
        "kernelspec": {
            "language": "python", 
            "display_name": "Python 2 with Spark 2.1", 
            "name": "python2-spark21"
        }, 
        "anaconda-cloud": {}
    }, 
    "nbformat_minor": 1
}