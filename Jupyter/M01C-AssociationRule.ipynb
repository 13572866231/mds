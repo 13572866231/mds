{
    "nbformat": 4, 
    "cells": [
        {
            "source": "# Modern Data Science (Module 01: Data Science)\n\n\n---\nAssociate Professor Gang Li | gang.li@deakin.edu.au<br />\n\nSchool of Information Technology, <br />\nDeakin University, VIC 3215, Australia.\n\n---\n\n# Session 4 Association Rule Mining\n\nIn this week, we will learn how to discover frequent item sets and association rules from data", 
            "cell_type": "markdown", 
            "metadata": {}
        }, 
        {
            "source": "Import the package", 
            "cell_type": "markdown", 
            "metadata": {}
        }, 
        {
            "execution_count": 1, 
            "cell_type": "code", 
            "metadata": {}, 
            "source": "from numpy import *", 
            "outputs": []
        }, 
        {
            "source": "Creat a simple data set to test", 
            "cell_type": "markdown", 
            "metadata": {}
        }, 
        {
            "execution_count": 2, 
            "cell_type": "code", 
            "metadata": {}, 
            "source": "def loadDataSet():\n    return [[1, 3, 4], [2, 3, 5], [1, 2, 3, 5], [2, 5]]", 
            "outputs": []
        }, 
        {
            "source": "The function  createC1() creates\u2014you guessed it\u2014 C1 .  C1 is a candidate itemset of size one.\nIn the Apriori algorithm, we create  C1 , and then we\u2019ll scan the dataset to see\nif these one itemsets meet our minimum support requirements. The itemsets that do\nmeet our minimum requirements become  L1 .  L1 then gets combined to become  C2\nand  C2 will get filtered to become  L2 . This is the main idea of this lgorithm.", 
            "cell_type": "markdown", 
            "metadata": {}
        }, 
        {
            "execution_count": 3, 
            "cell_type": "code", 
            "metadata": {}, 
            "source": "def createC1(dataSet):\n    C1 = []\n    for transaction in dataSet:\n        for item in transaction:\n            if not [item] in C1:\n                C1.append([item])\n                \n    C1.sort()\n    return map(frozenset, C1)#use frozen set so we\n                            #can use it as a key in a dict ", 
            "outputs": []
        }, 
        {
            "source": "This function(scanD) takes three arguments: a dataset,  Ck , a list of candidate sets, and  minSupport , which is the minimum\nsupport you\u2019re interested in. This is the function you\u2019ll use to generate  L1 from  C1.", 
            "cell_type": "markdown", 
            "metadata": {}
        }, 
        {
            "execution_count": 4, 
            "cell_type": "code", 
            "metadata": {}, 
            "source": "def scanD(D, Ck, minSupport):\n    ssCnt = {}\n    for tid in D:\n        for can in Ck:\n            if can.issubset(tid):\n                if not ssCnt.has_key(can): ssCnt[can]=1\n                else: ssCnt[can] += 1\n    numItems = float(len(D))\n    retList = []\n    supportData = {}\n    for key in ssCnt:\n        support = ssCnt[key]/numItems\n        if support >= minSupport:\n            retList.insert(0,key)\n        supportData[key] = support\n    return retList, supportData", 
            "outputs": []
        }, 
        {
            "execution_count": 5, 
            "cell_type": "code", 
            "metadata": {}, 
            "source": "!pip install apriori", 
            "outputs": [
                {
                    "name": "stdout", 
                    "output_type": "stream", 
                    "text": "Collecting apriori\n  Downloading apriori-1.0.0.tar.gz\nBuilding wheels for collected packages: apriori\n  Running setup.py bdist_wheel for apriori ... \u001b[?25ldone\n\u001b[?25h  Stored in directory: /gpfs/fs01/user/s05b-0294eb3de63d2e-b5498f932ea5/.cache/pip/wheels/21/5c/f4/e49eb2dd35b8434c38441ea237d06996a2ce1baa4f684e6d00\nSuccessfully built apriori\nInstalling collected packages: apriori\nSuccessfully installed apriori-1.0.0\n"
                }
            ]
        }, 
        {
            "execution_count": 6, 
            "cell_type": "code", 
            "metadata": {}, 
            "source": "import apriori", 
            "outputs": [
                {
                    "name": "stdout", 
                    "output_type": "stream", 
                    "text": "frozenset([5]) --> frozenset([2]) conf: 1.0\nfrozenset([2]) --> frozenset([5]) conf: 0.75\nfrozenset([6]) --> frozenset([5]) conf: 0.75\nfrozenset([5]) --> frozenset([6]) conf: 1.0\nfrozenset([6]) --> frozenset([1]) conf: 0.75\nfrozenset([1]) --> frozenset([6]) conf: 1.0\nfrozenset([6]) --> frozenset([4]) conf: 0.75\nfrozenset([4]) --> frozenset([6]) conf: 1.0\nfrozenset([3]) --> frozenset([2]) conf: 1.0\nfrozenset([2]) --> frozenset([3]) conf: 0.75\nfrozenset([6]) --> frozenset([2]) conf: 1.0\nfrozenset([2]) --> frozenset([6]) conf: 1.0\nfrozenset([2]) --> frozenset([1]) conf: 0.75\nfrozenset([1]) --> frozenset([2]) conf: 1.0\nfrozenset([6]) --> frozenset([3]) conf: 0.75\nfrozenset([3]) --> frozenset([6]) conf: 1.0\nfrozenset([4]) --> frozenset([2]) conf: 1.0\nfrozenset([2]) --> frozenset([4]) conf: 0.75\nfreqSet: frozenset([1, 2, 6])\nfrozenset([2, 6]) --> frozenset([1]) conf: 0.75\nfrozenset([1, 6]) --> frozenset([2]) conf: 1.0\nfrozenset([1, 2]) --> frozenset([6]) conf: 1.0\nm: 1 Hmp1 now: [frozenset([1]), frozenset([2]), frozenset([6])]\nHmp1: [frozenset([1, 2]), frozenset([1, 6]), frozenset([2, 6])]\nfrozenset([6]) --> frozenset([1, 2]) conf: 0.75\nfrozenset([2]) --> frozenset([1, 6]) conf: 0.75\nfrozenset([1]) --> frozenset([2, 6]) conf: 1.0\nHmp1 after calculate: [frozenset([1, 2]), frozenset([1, 6]), frozenset([2, 6])]\nfreqSet: frozenset([1, 2, 6])\nfrozenset([6]) --> frozenset([1, 2]) conf: 0.75\nfrozenset([2]) --> frozenset([1, 6]) conf: 0.75\nfrozenset([1]) --> frozenset([2, 6]) conf: 1.0\nm: 2 Hmp1 now: [frozenset([1, 2]), frozenset([1, 6]), frozenset([2, 6])]\nfreqSet: frozenset([2, 4, 6])\nfrozenset([4, 6]) --> frozenset([2]) conf: 1.0\nfrozenset([2, 6]) --> frozenset([4]) conf: 0.75\nfrozenset([2, 4]) --> frozenset([6]) conf: 1.0\nm: 1 Hmp1 now: [frozenset([2]), frozenset([4]), frozenset([6])]\nHmp1: [frozenset([2, 4]), frozenset([2, 6]), frozenset([4, 6])]\nfrozenset([6]) --> frozenset([2, 4]) conf: 0.75\nfrozenset([4]) --> frozenset([2, 6]) conf: 1.0\nfrozenset([2]) --> frozenset([4, 6]) conf: 0.75\nHmp1 after calculate: [frozenset([2, 4]), frozenset([2, 6]), frozenset([4, 6])]\nfreqSet: frozenset([2, 4, 6])\nfrozenset([6]) --> frozenset([2, 4]) conf: 0.75\nfrozenset([4]) --> frozenset([2, 6]) conf: 1.0\nfrozenset([2]) --> frozenset([4, 6]) conf: 0.75\nm: 2 Hmp1 now: [frozenset([2, 4]), frozenset([2, 6]), frozenset([4, 6])]\nfreqSet: frozenset([2, 5, 6])\nfrozenset([5, 6]) --> frozenset([2]) conf: 1.0\nfrozenset([2, 6]) --> frozenset([5]) conf: 0.75\nfrozenset([2, 5]) --> frozenset([6]) conf: 1.0\nm: 1 Hmp1 now: [frozenset([2]), frozenset([5]), frozenset([6])]\nHmp1: [frozenset([2, 5]), frozenset([2, 6]), frozenset([5, 6])]\nfrozenset([6]) --> frozenset([2, 5]) conf: 0.75\nfrozenset([5]) --> frozenset([2, 6]) conf: 1.0\nfrozenset([2]) --> frozenset([5, 6]) conf: 0.75\nHmp1 after calculate: [frozenset([2, 5]), frozenset([2, 6]), frozenset([5, 6])]\nfreqSet: frozenset([2, 5, 6])\nfrozenset([6]) --> frozenset([2, 5]) conf: 0.75\nfrozenset([5]) --> frozenset([2, 6]) conf: 1.0\nfrozenset([2]) --> frozenset([5, 6]) conf: 0.75\nm: 2 Hmp1 now: [frozenset([2, 5]), frozenset([2, 6]), frozenset([5, 6])]\nfreqSet: frozenset([2, 3, 6])\nfrozenset([3, 6]) --> frozenset([2]) conf: 1.0\nfrozenset([2, 6]) --> frozenset([3]) conf: 0.75\nfrozenset([2, 3]) --> frozenset([6]) conf: 1.0\nm: 1 Hmp1 now: [frozenset([2]), frozenset([3]), frozenset([6])]\nHmp1: [frozenset([2, 3]), frozenset([2, 6]), frozenset([3, 6])]\nfrozenset([6]) --> frozenset([2, 3]) conf: 0.75\nfrozenset([3]) --> frozenset([2, 6]) conf: 1.0\nfrozenset([2]) --> frozenset([3, 6]) conf: 0.75\nHmp1 after calculate: [frozenset([2, 3]), frozenset([2, 6]), frozenset([3, 6])]\nfreqSet: frozenset([2, 3, 6])\nfrozenset([6]) --> frozenset([2, 3]) conf: 0.75\nfrozenset([3]) --> frozenset([2, 6]) conf: 1.0\nfrozenset([2]) --> frozenset([3, 6]) conf: 0.75\nm: 2 Hmp1 now: [frozenset([2, 3]), frozenset([2, 6]), frozenset([3, 6])]\nbrl: [(frozenset([5]), frozenset([2]), 1.0), (frozenset([2]), frozenset([5]), 0.75), (frozenset([6]), frozenset([5]), 0.75), (frozenset([5]), frozenset([6]), 1.0), (frozenset([6]), frozenset([1]), 0.75), (frozenset([1]), frozenset([6]), 1.0), (frozenset([6]), frozenset([4]), 0.75), (frozenset([4]), frozenset([6]), 1.0), (frozenset([3]), frozenset([2]), 1.0), (frozenset([2]), frozenset([3]), 0.75), (frozenset([6]), frozenset([2]), 1.0), (frozenset([2]), frozenset([6]), 1.0), (frozenset([2]), frozenset([1]), 0.75), (frozenset([1]), frozenset([2]), 1.0), (frozenset([6]), frozenset([3]), 0.75), (frozenset([3]), frozenset([6]), 1.0), (frozenset([4]), frozenset([2]), 1.0), (frozenset([2]), frozenset([4]), 0.75), (frozenset([2, 6]), frozenset([1]), 0.75), (frozenset([1, 6]), frozenset([2]), 1.0), (frozenset([1, 2]), frozenset([6]), 1.0), (frozenset([6]), frozenset([1, 2]), 0.75), (frozenset([2]), frozenset([1, 6]), 0.75), (frozenset([1]), frozenset([2, 6]), 1.0), (frozenset([6]), frozenset([1, 2]), 0.75), (frozenset([2]), frozenset([1, 6]), 0.75), (frozenset([1]), frozenset([2, 6]), 1.0), (frozenset([4, 6]), frozenset([2]), 1.0), (frozenset([2, 6]), frozenset([4]), 0.75), (frozenset([2, 4]), frozenset([6]), 1.0), (frozenset([6]), frozenset([2, 4]), 0.75), (frozenset([4]), frozenset([2, 6]), 1.0), (frozenset([2]), frozenset([4, 6]), 0.75), (frozenset([6]), frozenset([2, 4]), 0.75), (frozenset([4]), frozenset([2, 6]), 1.0), (frozenset([2]), frozenset([4, 6]), 0.75), (frozenset([5, 6]), frozenset([2]), 1.0), (frozenset([2, 6]), frozenset([5]), 0.75), (frozenset([2, 5]), frozenset([6]), 1.0), (frozenset([6]), frozenset([2, 5]), 0.75), (frozenset([5]), frozenset([2, 6]), 1.0), (frozenset([2]), frozenset([5, 6]), 0.75), (frozenset([6]), frozenset([2, 5]), 0.75), (frozenset([5]), frozenset([2, 6]), 1.0), (frozenset([2]), frozenset([5, 6]), 0.75), (frozenset([3, 6]), frozenset([2]), 1.0), (frozenset([2, 6]), frozenset([3]), 0.75), (frozenset([2, 3]), frozenset([6]), 1.0), (frozenset([6]), frozenset([2, 3]), 0.75), (frozenset([3]), frozenset([2, 6]), 1.0), (frozenset([2]), frozenset([3, 6]), 0.75), (frozenset([6]), frozenset([2, 3]), 0.75), (frozenset([3]), frozenset([2, 6]), 1.0), (frozenset([2]), frozenset([3, 6]), 0.75)]\n"
                }
            ]
        }, 
        {
            "execution_count": 7, 
            "cell_type": "code", 
            "metadata": {}, 
            "source": "dataSet = apriori.loadDataSet()\nprint dataSet", 
            "outputs": [
                {
                    "name": "stdout", 
                    "output_type": "stream", 
                    "text": "[[1, 2, 3, 4, 6], [2, 3, 4, 5, 6], [1, 2, 3, 5, 6], [1, 2, 4, 5, 6]]\n"
                }
            ]
        }, 
        {
            "execution_count": 8, 
            "cell_type": "code", 
            "metadata": {}, 
            "source": "C1 = apriori.createC1(dataSet)", 
            "outputs": []
        }, 
        {
            "execution_count": 9, 
            "cell_type": "code", 
            "metadata": {}, 
            "source": "D = map(set, dataSet)\nprint D", 
            "outputs": [
                {
                    "name": "stdout", 
                    "output_type": "stream", 
                    "text": "[set([1, 2, 3, 4, 6]), set([2, 3, 4, 5, 6]), set([1, 2, 3, 5, 6]), set([1, 2, 4, 5, 6])]\n"
                }
            ]
        }, 
        {
            "execution_count": 10, 
            "cell_type": "code", 
            "metadata": {}, 
            "source": "L1,suppData0 = apriori.scanD(D, C1, 0.5)\nprint(L1)", 
            "outputs": [
                {
                    "name": "stdout", 
                    "output_type": "stream", 
                    "text": "[frozenset([2]), frozenset([1]), frozenset([4]), frozenset([6]), frozenset([3]), frozenset([5])]\n"
                }
            ]
        }, 
        {
            "source": "The function  aprioriGen() will take a list of frequent itemsets, Lk , and the size of the itemsets,  k , to produce  Ck . For example, it will take the itemsets {0}, {1}, {2} and so on and produce {0,1} {0,2}, and {1,2}.", 
            "cell_type": "markdown", 
            "metadata": {}
        }, 
        {
            "execution_count": 11, 
            "cell_type": "code", 
            "metadata": {}, 
            "source": "def aprioriGen(Lk, k): #creates Ck\n    retList = []\n    lenLk = len(Lk)\n    for i in range(lenLk):\n        for j in range(i+1, lenLk): \n            L1 = list(Lk[i])[:k-2]; L2 = list(Lk[j])[:k-2]\n            L1.sort(); L2.sort()\n            if L1==L2: #if first k-2 elements are equal\n                retList.append(Lk[i] | Lk[j]) #set union\n    return retList", 
            "outputs": []
        }, 
        {
            "execution_count": 12, 
            "cell_type": "code", 
            "metadata": {}, 
            "source": "def apriori(dataSet, minSupport = 0.5):\n    C1 = createC1(dataSet)\n    D = map(set, dataSet)\n    L1, supportData = scanD(D, C1, minSupport)\n    L = [L1]\n    k = 2\n    while (len(L[k-2]) > 0):\n        Ck = aprioriGen(L[k-2], k)\n        Lk, supK = scanD(D, Ck, minSupport)#scan DB to get Lk\n        supportData.update(supK)\n        L.append(Lk)\n        k += 1\n    return L, supportData", 
            "outputs": []
        }, 
        {
            "execution_count": 13, 
            "cell_type": "code", 
            "metadata": {}, 
            "source": "L,suppData = apriori.apriori(dataSet)\nprint L", 
            "outputs": [
                {
                    "evalue": "'function' object has no attribute 'apriori'", 
                    "traceback": [
                        "\u001b[0;31m\u001b[0m", 
                        "\u001b[0;31mAttributeError\u001b[0mTraceback (most recent call last)", 
                        "\u001b[0;32m<ipython-input-13-49f7dd0c79a1>\u001b[0m in \u001b[0;36m<module>\u001b[0;34m()\u001b[0m\n\u001b[0;32m----> 1\u001b[0;31m \u001b[0mL\u001b[0m\u001b[0;34m,\u001b[0m\u001b[0msuppData\u001b[0m \u001b[0;34m=\u001b[0m \u001b[0mapriori\u001b[0m\u001b[0;34m.\u001b[0m\u001b[0mapriori\u001b[0m\u001b[0;34m(\u001b[0m\u001b[0mdataSet\u001b[0m\u001b[0;34m)\u001b[0m\u001b[0;34m\u001b[0m\u001b[0m\n\u001b[0m\u001b[1;32m      2\u001b[0m \u001b[0;32mprint\u001b[0m \u001b[0mL\u001b[0m\u001b[0;34m\u001b[0m\u001b[0m\n", 
                        "\u001b[0;31mAttributeError\u001b[0m: 'function' object has no attribute 'apriori'"
                    ], 
                    "ename": "AttributeError", 
                    "output_type": "error"
                }
            ]
        }, 
        {
            "execution_count": 14, 
            "cell_type": "code", 
            "metadata": {}, 
            "source": "L[0]", 
            "outputs": [
                {
                    "evalue": "name 'L' is not defined", 
                    "traceback": [
                        "\u001b[0;31m\u001b[0m", 
                        "\u001b[0;31mNameError\u001b[0mTraceback (most recent call last)", 
                        "\u001b[0;32m<ipython-input-14-f36dfaf9fd08>\u001b[0m in \u001b[0;36m<module>\u001b[0;34m()\u001b[0m\n\u001b[0;32m----> 1\u001b[0;31m \u001b[0mL\u001b[0m\u001b[0;34m[\u001b[0m\u001b[0;36m0\u001b[0m\u001b[0;34m]\u001b[0m\u001b[0;34m\u001b[0m\u001b[0m\n\u001b[0m", 
                        "\u001b[0;31mNameError\u001b[0m: name 'L' is not defined"
                    ], 
                    "ename": "NameError", 
                    "output_type": "error"
                }
            ]
        }, 
        {
            "execution_count": 15, 
            "cell_type": "code", 
            "metadata": {}, 
            "source": "L[1]", 
            "outputs": [
                {
                    "evalue": "name 'L' is not defined", 
                    "traceback": [
                        "\u001b[0;31m\u001b[0m", 
                        "\u001b[0;31mNameError\u001b[0mTraceback (most recent call last)", 
                        "\u001b[0;32m<ipython-input-15-093ff5021c2b>\u001b[0m in \u001b[0;36m<module>\u001b[0;34m()\u001b[0m\n\u001b[0;32m----> 1\u001b[0;31m \u001b[0mL\u001b[0m\u001b[0;34m[\u001b[0m\u001b[0;36m1\u001b[0m\u001b[0;34m]\u001b[0m\u001b[0;34m\u001b[0m\u001b[0m\n\u001b[0m", 
                        "\u001b[0;31mNameError\u001b[0m: name 'L' is not defined"
                    ], 
                    "ename": "NameError", 
                    "output_type": "error"
                }
            ]
        }, 
        {
            "execution_count": null, 
            "cell_type": "code", 
            "metadata": {}, 
            "source": "L[2]", 
            "outputs": []
        }, 
        {
            "execution_count": null, 
            "cell_type": "code", 
            "metadata": {}, 
            "source": "L[3]", 
            "outputs": []
        }, 
        {
            "execution_count": null, 
            "cell_type": "code", 
            "metadata": {
                "collapsed": true
            }, 
            "source": "L,suppData = apriori.apriori(dataSet, minSupport=0.7)", 
            "outputs": []
        }, 
        {
            "execution_count": null, 
            "cell_type": "code", 
            "metadata": {}, 
            "source": "L", 
            "outputs": []
        }, 
        {
            "source": "The function is going to generate a list of rules with confidence values that we can sort through later.", 
            "cell_type": "markdown", 
            "metadata": {}
        }, 
        {
            "execution_count": null, 
            "cell_type": "code", 
            "metadata": {
                "collapsed": true
            }, 
            "source": "def generateRules(L, supportData, minConf=0.7):  #supportData is a dict coming from scanD\n    bigRuleList = []\n    for i in range(1, len(L)):#only get the sets with two or more items\n        for freqSet in L[i]:\n            H1 = [frozenset([item]) for item in freqSet]\n            if (i > 1):\n                rulesFromConseq(freqSet, H1, supportData, bigRuleList, minConf)\n            else:\n                calcConf(freqSet, H1, supportData, bigRuleList, minConf)\n    return bigRuleList         ", 
            "outputs": []
        }, 
        {
            "source": "The function is mainly to evaluate those rules.", 
            "cell_type": "markdown", 
            "metadata": {}
        }, 
        {
            "execution_count": null, 
            "cell_type": "code", 
            "metadata": {
                "collapsed": true
            }, 
            "source": "def calcConf(freqSet, H, supportData, brl, minConf=0.7):\n    prunedH = [] #create new list to return\n    for conseq in H:\n        conf = supportData[freqSet]/supportData[freqSet-conseq] #calc confidence\n        if conf >= minConf: \n            print (freqSet-conseq,'-->',conseq,'conf:',conf)\n            brl.append((freqSet-conseq, conseq, conf))\n            prunedH.append(conseq)\n    return prunedH", 
            "outputs": []
        }, 
        {
            "source": "The function is to generate a set of candidate rules.", 
            "cell_type": "markdown", 
            "metadata": {}
        }, 
        {
            "execution_count": null, 
            "cell_type": "code", 
            "metadata": {
                "collapsed": true
            }, 
            "source": "def rulesFromConseq(freqSet, H, supportData, brl, minConf=0.7):\n    m = len(H[0])\n    if (len(freqSet) > (m + 1)): #try further merging\n        Hmp1 = aprioriGen(H, m+1)#create Hm+1 new candidates\n        Hmp1 = calcConf(freqSet, Hmp1, supportData, brl, minConf)\n        if (len(Hmp1) > 1):    #need at least two sets to merge\n            rulesFromConseq(freqSet, Hmp1, supportData, brl, minConf)", 
            "outputs": []
        }, 
        {
            "execution_count": null, 
            "cell_type": "code", 
            "metadata": {
                "collapsed": true
            }, 
            "source": "def pntRules(ruleList, itemMeaning):\n    for ruleTup in ruleList:\n        for item in ruleTup[0]:\n            print (itemMeaning[item])\n        print (\"           -------->\")\n        for item in ruleTup[1]:\n            print (itemMeaning[item])\n        print (\"confidence: %f\" % ruleTup[2])", 
            "outputs": []
        }, 
        {
            "execution_count": null, 
            "cell_type": "code", 
            "metadata": {
                "collapsed": true
            }, 
            "source": "L,suppData = apriori.apriori(dataSet, minSupport = 0.5)", 
            "outputs": []
        }, 
        {
            "execution_count": null, 
            "cell_type": "code", 
            "metadata": {}, 
            "source": "rules = apriori.generateRules(L, suppData, minConf = 0.7)", 
            "outputs": []
        }, 
        {
            "source": "rules", 
            "cell_type": "markdown", 
            "metadata": {}
        }, 
        {
            "execution_count": null, 
            "cell_type": "code", 
            "metadata": {}, 
            "source": "rules = apriori.generateRules(L, suppData, minConf = 0.5)", 
            "outputs": []
        }, 
        {
            "execution_count": null, 
            "cell_type": "code", 
            "metadata": {}, 
            "source": "rules", 
            "outputs": []
        }, 
        {
            "source": "#### An example: uncovering patterns in congressional voting", 
            "cell_type": "markdown", 
            "metadata": {}
        }, 
        {
            "source": "To get started with the  votesmart API , you need to import  votesmart ", 
            "cell_type": "markdown", 
            "metadata": {}
        }, 
        {
            "execution_count": null, 
            "cell_type": "code", 
            "metadata": {
                "collapsed": true
            }, 
            "source": "from time import sleep\nfrom votesmart import votesmart", 
            "outputs": []
        }, 
        {
            "source": "Next, you need to enter your  API key:", 
            "cell_type": "markdown", 
            "metadata": {}
        }, 
        {
            "execution_count": null, 
            "cell_type": "code", 
            "metadata": {
                "collapsed": true
            }, 
            "source": "votesmart.apikey = 'a7fa40adec6f4a77178799fae4441030'", 
            "outputs": []
        }, 
        {
            "execution_count": null, 
            "cell_type": "code", 
            "metadata": {}, 
            "source": "# Functions for collecting action IDs for bills in Congress\ndef getActionIds():\n    actionIdList = []; billTitleList = []\n    fr = open('recent20bills.txt') \n    for line in fr.readlines():\n        billNum = int(line.split('\\t')[0])\n        try:\n            billDetail = votesmart.votes.getBill(billNum) #api call\n            for action in billDetail.actions:\n                if action.level == 'House' and \\\n                (action.stage == 'Passage' or action.stage == 'Amendment Vote'):\n                    actionId = int(action.actionId)\n                    print ('bill: %d has actionId: %d' % (billNum, actionId))\n                    actionIdList.append(actionId)\n                    billTitleList.append(line.strip().split('\\t')[1])\n        except:\n            print (\"problem getting bill %d\" % billNum)\n        sleep(1)                                      #delay to be polite\n    return actionIdList, billTitleList", 
            "outputs": []
        }, 
        {
            "execution_count": null, 
            "cell_type": "code", 
            "metadata": {}, 
            "source": "actionIdList,billTitles = getActionIds()", 
            "outputs": []
        }, 
        {
            "execution_count": null, 
            "cell_type": "code", 
            "metadata": {}, 
            "source": "# Transaction list population with voting data\ndef getTransList(actionIdList, billTitleList): #this will return a list of lists containing ints\n    itemMeaning = ['Republican', 'Democratic']#list of what each item stands for\n    for billTitle in billTitleList:#fill up itemMeaning list\n        itemMeaning.append('%s -- Nay' % billTitle)\n        itemMeaning.append('%s -- Yea' % billTitle)\n    transDict = {}#list of items in each transaction (politician) \n    voteCount = 2\n    for actionId in actionIdList:\n        sleep(3)\n        print ('getting votes for actionId: %d' % actionId)\n        try:\n            voteList = votesmart.votes.getBillActionVotes(actionId)\n            for vote in voteList:\n                if not transDict.has_key(vote.candidateName): \n                    transDict[vote.candidateName] = []\n                    if vote.officeParties == 'Democratic':\n                        transDict[vote.candidateName].append(1)\n                    elif vote.officeParties == 'Republican':\n                        transDict[vote.candidateName].append(0)\n                if vote.action == 'Nay':\n                    transDict[vote.candidateName].append(voteCount)\n                elif vote.action == 'Yea':\n                    transDict[vote.candidateName].append(voteCount + 1)\n        except: \n            print (\"problem getting actionId: %d\" % actionId)\n        voteCount += 2\n    return transDict, itemMeaning", 
            "outputs": []
        }, 
        {
            "execution_count": null, 
            "cell_type": "code", 
            "metadata": {}, 
            "source": "transDict, itemMeaning = getTransList(actionIdList[:2], billTitles[:2])", 
            "outputs": []
        }, 
        {
            "execution_count": null, 
            "cell_type": "code", 
            "metadata": {}, 
            "source": "itemMeaning", 
            "outputs": []
        }, 
        {
            "execution_count": null, 
            "cell_type": "code", 
            "metadata": {}, 
            "source": "for key in transDict.keys():\n    print transDict[key][0]", 
            "outputs": []
        }, 
        {
            "execution_count": null, 
            "cell_type": "code", 
            "metadata": {}, 
            "source": "transDict.keys()[0]", 
            "outputs": []
        }, 
        {
            "execution_count": null, 
            "cell_type": "code", 
            "metadata": {}, 
            "source": "for item in transDict[' Doyle, Michael 'Mike'']:\n    print itemMeaning[item]", 
            "outputs": []
        }, 
        {
            "execution_count": null, 
            "cell_type": "code", 
            "metadata": {}, 
            "source": "transDict,itemMeaning=getTransList(actionIdList, billTitles)", 
            "outputs": []
        }, 
        {
            "execution_count": null, 
            "cell_type": "code", 
            "metadata": {
                "collapsed": true
            }, 
            "source": "dataSet = [transDict[key] for key in transDict.keys()]", 
            "outputs": []
        }, 
        {
            "execution_count": null, 
            "cell_type": "code", 
            "metadata": {
                "collapsed": true
            }, 
            "source": "L,suppData=apriori.apriori(dataSet, minSupport=0.5)", 
            "outputs": []
        }, 
        {
            "execution_count": null, 
            "cell_type": "code", 
            "metadata": {}, 
            "source": "L", 
            "outputs": []
        }, 
        {
            "execution_count": null, 
            "cell_type": "code", 
            "metadata": {
                "collapsed": true
            }, 
            "source": "L,suppData=apriori.apriori(dataSet, minSupport=0.3)", 
            "outputs": []
        }, 
        {
            "execution_count": null, 
            "cell_type": "code", 
            "metadata": {}, 
            "source": "len(L)", 
            "outputs": []
        }, 
        {
            "execution_count": null, 
            "cell_type": "code", 
            "metadata": {}, 
            "source": "L(6)", 
            "outputs": []
        }, 
        {
            "execution_count": null, 
            "cell_type": "code", 
            "metadata": {
                "collapsed": true
            }, 
            "source": "rules = apriori.generateRules(L,suppData)", 
            "outputs": []
        }, 
        {
            "execution_count": null, 
            "cell_type": "code", 
            "metadata": {
                "collapsed": true
            }, 
            "source": "rules = apriori.generateRules(L,suppData, minConf=0.95)", 
            "outputs": []
        }, 
        {
            "execution_count": null, 
            "cell_type": "code", 
            "metadata": {
                "collapsed": true
            }, 
            "source": "rules = apriori.generateRules(L,suppData, minConf=0.99)", 
            "outputs": []
        }, 
        {
            "source": "#### Another Example: finding similar features in poisonous mushrooms", 
            "cell_type": "markdown", 
            "metadata": {}
        }, 
        {
            "execution_count": null, 
            "cell_type": "code", 
            "metadata": {}, 
            "source": "mushDatSet = [line.split() for line in open('mushroom.dat').readlines()]", 
            "outputs": []
        }, 
        {
            "execution_count": null, 
            "cell_type": "code", 
            "metadata": {
                "collapsed": true
            }, 
            "source": "L,suppData=apriori.apriori(mushDatSet, minSupport=0.3)", 
            "outputs": []
        }, 
        {
            "execution_count": null, 
            "cell_type": "code", 
            "metadata": {}, 
            "source": "for item in L[1]:\n    if item.intersection('2'): print item", 
            "outputs": []
        }, 
        {
            "execution_count": null, 
            "cell_type": "code", 
            "metadata": {
                "collapsed": true
            }, 
            "source": "for item in L[3]:\n    if item.intersection('2'): print item", 
            "outputs": []
        }
    ], 
    "metadata": {
        "language_info": {
            "pygments_lexer": "ipython2", 
            "version": "2.7.11", 
            "codemirror_mode": {
                "version": 2, 
                "name": "ipython"
            }, 
            "mimetype": "text/x-python", 
            "name": "python", 
            "file_extension": ".py", 
            "nbconvert_exporter": "python"
        }, 
        "kernelspec": {
            "language": "python", 
            "display_name": "Python 2 with Spark 1.6 (Unsupported)", 
            "name": "python2"
        }
    }, 
    "nbformat_minor": 2
}