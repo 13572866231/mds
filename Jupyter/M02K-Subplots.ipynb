{
    "metadata": {
        "language_info": {
            "name": "python", 
            "mimetype": "text/x-python", 
            "nbconvert_exporter": "python", 
            "pygments_lexer": "ipython2", 
            "codemirror_mode": {
                "name": "ipython", 
                "version": 2
            }, 
            "file_extension": ".py", 
            "version": "2.7.11"
        }, 
        "anaconda-cloud": {}, 
        "kernelspec": {
            "display_name": "Python 2 with Spark 2.1", 
            "name": "python2-spark21", 
            "language": "python"
        }
    }, 
    "nbformat": 4, 
    "cells": [
        {
            "metadata": {}, 
            "source": "# FLIP (00) Data Vis and Linear Algebra\n\n---\nTeam Director: Xiaojuan Cheng | xjcheng@tulip.academy<br />\n\nTULIP Academy <br />\nhttp://www.tulip.academy\n\n---\n## Introduction\n\nIn our previous lesson, we used a scatterplot to look at pairs of features from the data set in an effort to determine which pair would be best for predicting a flower's species. At the time, we didn't know how to show more than one plot in a single figure, so it was tough to compare the different feature pairings to find the best predictor, but in this lesson we'll see how to display multiple plots in a single figure using the `subplot` function. \n\nBut, before we can learn anything about subplotting, we need to setup our notebook and pull in a data set, so let's go ahead and do that now.", 
            "cell_type": "markdown"
        }, 
        {
            "source": "%matplotlib inline\n\nimport matplotlib.pyplot as plt\nimport numpy as np\n\nfrom IPython.display import set_matplotlib_formats\nset_matplotlib_formats('retina')", 
            "metadata": {}, 
            "execution_count": null, 
            "cell_type": "code", 
            "outputs": []
        }, 
        {
            "metadata": {}, 
            "source": "## Getting the Data\n\nOnce again, we'll be using the [Iris data set][1] from the [UCI Machine Learning Repository][2] to play around with matplotlib's subplotting features. The code below was taken from the earlier lessons and will download and load the data set into a variable called `data`.\n\n[1]: https://archive.ics.uci.edu/ml/datasets/Iris\n[2]: http://archive.ics.uci.edu/ml/", 
            "cell_type": "markdown"
        }, 
        {
            "source": "import csv\nimport urllib2\nfrom collections import namedtuple\n\n# Create a namedtuple constructor for each record in the Iris data\n#    1. sepal length in cm\n#    2. sepal width in cm\n#    3. petal length in cm\n#    4. petal width in cm\n#    5. class: \n#       -- Iris-setosa\n#       -- Iris-versicolour\n#       -- Iris-virginica\nfields = ('sepal_length', \n          'sepal_width', \n          'petal_length', \n          'petal_width', \n          'species')\nIrisRecord = namedtuple('IrisRecord', fields)\n\n# Download and read in the data from the UCI Machine Learning Repository\nresponse = urllib2.urlopen('https://archive.ics.uci.edu/ml/machine-learning-databases/iris/iris.data')\niris_data_csv = response.read().strip()\n\n# Convert each record into a format that's easier to work with (i.e.,\n# wrap each record in the namedtuple that we created).\ndata = []\nfor row in csv.reader(iris_data_csv.splitlines()):\n    data.append(IrisRecord(\n        sepal_length          = float(row[0]),\n        sepal_width           = float(row[1]),\n        petal_length          = float(row[2]),\n        petal_width           = float(row[3]),\n        species               = row[4]))", 
            "metadata": {}, 
            "execution_count": null, 
            "cell_type": "code", 
            "outputs": []
        }, 
        {
            "metadata": {}, 
            "source": "## Creating the `scatter` Function\n\nNow, we could copy and paste the code we used for drawing our scatterplots for each plot we want to make, but that's a bit tedious and error prone. So, for this lesson, we'll grab the code from the 'More Plotting' lesson, and wrap it in a function that will allow us to create scatterplots for different pairs of features with just a single line of code.\n\nThe code below creates a function called `scatter` that takes a 2D matrix of data and several keyword variables that allow us to describe which data we wish to plot as well as some of the aesthetic attributes of the plot such as `x` and `y` labels and legend location.", 
            "cell_type": "markdown"
        }, 
        {
            "source": "from itertools import cycle\nfrom collections import defaultdict\n\ndef scatter(m, x=None, y=None, target=None, x_label=None, y_label=None, loc='upper right'):\n    \"\"\"Takes a 2D matrix and keys for getting the x and y values\n    \n    The x, y, and target parameters are either getter functions \n    that will be used to extract their corresponding values from\n    each row, or they are strings which will be used with the\n    getattr function to extract the value. If None, it is assumed\n    that the x and y values are the first and second in the row\n    and the target value is the last value in the row.\n    \"\"\"        \n    # Create a color map of species names to colors\n    color_cycler = cycle(plt.rcParams['axes.prop_cycle'])\n    cmap = defaultdict(lambda: next(color_cycler)['color'])\n    \n    # Create the x, y, and target values getter functions,\n    # and create human readable x and y labels if none \n    # were passed in.\n    if x is None:\n        x_getter = lambda r: r[0]\n    elif isinstance(x, basestring):\n        if x_label is None:\n            x_label = x.replace('_', ' ').title()\n        x_getter = lambda r: getattr(r, x) \n    else:\n        x_getter = x\n        \n    if y is None:\n        y_getter = lambda r: r[1]\n    elif isinstance(y, basestring):\n        if y_label is None:\n            y_label = y.replace('_', ' ').title()\n        y_getter = lambda r: getattr(r, y) \n    else:\n        y_getter = y\n        \n    if target is None:\n        target_getter = lambda r: r[-1]\n    elif isinstance(target, basestring):\n        target_getter = lambda r: getattr(r, target)\n    else:\n        target_getter = target\n    \n    # Extract the x and y values (i.e., sepal length and width)\n    # from the data set. Also, create a list of corresponding\n    # colors based on the species of each record.\n    _x, _y, colors = [], [], []\n    for r in data:\n        _x.append(x_getter(r))\n        _y.append(y_getter(r))\n        colors.append(cmap[target_getter(r)])\n\n    # Plot the data on a scatter plot. Each point will have an outline \n    # color according to their species, but we'll leave the centers \n    # colorless (for aesthetic purposes only). Finally, we'll reduce\n    # the line width of each data point (again for aesthetics only).\n    plt.scatter(_x, _y, edgecolors=colors, c='none', linewidths=0.5)\n\n    # Add x and y labels\n    if x_label is not None:\n        plt.xlabel(x_label)\n    if y_label is not None:\n        plt.ylabel(y_label)\n    \n    # Get the list of classes for the target variable\n    classes = list(set(r[-1] for r in m))\n\n    # Create a few \"proxy artists\" for creating the legend. Calling the \n    # legend() function without passing in any parameters will create a\n    # legend for any labeled data in the graph, so we could do something\n    # funky where we add a label for one line per species, but that \n    # doesn't seem as simple and clean as just creating a few lines that\n    # we use just to create the legend. Plus, this is an officially \n    # sanctioned way to create a legend (just see the legend docs).\n    legend_handles = [plt.Line2D([], [], color=cmap[cls], label=cls) for cls in classes]\n    plt.legend(handles=legend_handles, loc=loc);", 
            "metadata": {}, 
            "execution_count": null, 
            "cell_type": "code", 
            "outputs": []
        }, 
        {
            "metadata": {}, 
            "source": "## Drawing Multiple Plots With `subplot`\n\nThe `subplot` function can be used to create a single plot in a grid of subplots. It takes three integer values: the first two describe the shape of the grid and the third is the index of the subplot you want to create. So, for example, if we wanted to create a pair of subplots, one beside the other horizontally, we would call the `subplot` function with the first number set to 1, to signify that our grid will have 1 row, and the second number set to 2, to signify that our grid will contain 2 columns. Our grid would then contain 2 sublots, numbered 1 and 2, since the `subplot` function assumes that subplots are indexed starting at 1.\n\nLet's try creating that horizontal grid of subplots now. \n\nThe very first thing we'll do is adjust the width of our figure slightly, otherwise, we'll end up with two very narrow subplots since the default width is only appropriate for a single plot. On line 2, you can see the code makes a call to the `pyplot.gcf` function to get the current `Figure` object, and then it calls the `Figure.set_figwidth` function to adjust the width of the figure. Next, on line 5, we'll call the `subplot` function to create the first plot in the grid. This call will create an instance of the `Axes` class and set it as the current axes object on the current figure. Then, we'll call the `scatter` function we created above, pass in our data, and specify the sepal length and width as the features we want to show in our first plot.\n\nTo plot the second scatterplot, you simply call the `subplot` function again with the same number of rows and columns, but this time with the index value of the next plot in the grid, that would be the number 2 in this case. Notice, in this call, however, that we are passing in the single value `122` rather than three separate integer values. This is a shorthand that the `subplot` function allows if you have a grid that has less than 10 subplots in it. Finally, on the last line, we call our `scatter` function again, this time with the petal dimensions and a different location for the legend so as to not obscure the data in the graph.", 
            "cell_type": "markdown"
        }, 
        {
            "source": "# Adjust the width to fit two plots side-by-side\nplt.gcf().set_figwidth(12)\n\n# Create the first plot in a 1x2 grid\nplt.subplot(1, 2, 1)\nscatter(data, 'sepal_length', 'sepal_width')\n\n# Create the second plot in a 1x2 grid.\n# For grids that have less than 10 subplots, you can use\n# the shorthand below where you leave out the commas between\n# the number of rows, number of columns, and index values.\nplt.subplot(122)\nscatter(data, 'petal_length', 'petal_width', loc='upper left')", 
            "metadata": {}, 
            "execution_count": null, 
            "cell_type": "code", 
            "outputs": []
        }, 
        {
            "metadata": {}, 
            "source": "Looks pretty nice, right? And, viewing the data side-by-side like this makes it so much easier to see the magnitude of the effect that different feature pairs have on the clustering of our data. \n\nLet's switch it up a little bit though, and do the same thing vertically. The code below displays the same set of scatterplots, but this time, we'll display them in a single column instead of a single row. We'll also use the `subplots` function this time to create the entire grid of `Axes` objects ahead of time. \n\nThe important lines in this code are lines 5, 13, and 17. First, take a look at line 5. As I mentioned, this time around we're calling the `subplots` function instead of the singular `subplot` function. The difference is that `subplot` creates only a single `Axes` object when it's called, so you build up your grid one `Axes` object at a time. The `subplots` function, on the other hand, creates the entire grid of `Axes` objects at once and returns them, along with the current `Figure`, in a tuple. On line 5, we call the `subplots` function to create a 2 row by 1 column grid, and we capture the `Axes` objects returned in the variables `ax1` and `ax2`.\n\nOn lines 13 and 17, we see next bit of code that differs from the previous example. Since we're no longer creating each subplot as we need them, we'll need to set the current subplot, or axes, before we can draw each scatterplot. To do so, we have to call the set current axes function, `plt.sca`, and pass in the `Axes` object that we want to plot our data on. Once we've set the current axes, we can call our `scatter` function and it will draw the scatterplot using the `Axes` object we just set as the current axes.", 
            "cell_type": "markdown"
        }, 
        {
            "source": "# The difference between the subplot and subplots\n# functions is that the former creates a single \n# axes object every time it's called, whereas the\n# the latter creates all of the axes objects at once.\nfig, (ax1, ax2) = plt.subplots(2, 1)\nfig.set_figheight(10)\n\n# Since we created all of the xes objects ahead of time, \n# we have to set the current axes ourselves before calling\n# the scatter function. Below we set the current axes to \n# the first Axes object before plotting the sepal dimensions.\nplt.sca(ax1)\nscatter(data, 'sepal_length', 'sepal_width', loc='upper right')\n\n# Plot the petal dimensions in the second axes\nplt.sca(ax2)\nscatter(data, 'petal_length', 'petal_width', loc='upper left')", 
            "metadata": {}, 
            "execution_count": null, 
            "cell_type": "code", 
            "outputs": []
        }, 
        {
            "metadata": {}, 
            "source": "One of the things we didn't see though, was how to adjust some of the parameters of the grid, like the spacing between subplots for example. In this lesson, we'll take a quick look at some of the options that you have for adjusting these parameters to make your subplots look as nice and readable as possible.\n\nLet's go ahead and jump right into the code.\n\n## Adjusting Subplots\n\nIn the code below we use the `subplots` function to create a 3x2 grid. Let's run it and see how it looks.", 
            "cell_type": "markdown"
        }, 
        {
            "source": "plt.subplots(3, 2);", 
            "metadata": {}, 
            "execution_count": null, 
            "cell_type": "code", 
            "outputs": []
        }, 
        {
            "metadata": {}, 
            "source": "### Tight Layout\n\nIt doesn't look too bad, but the vertical spacing between each subplot is a little tight---notice that there's a little overlap with some of the x-axis labels. If you want to fix that, and make the plots fit together much better, you can simply call the `pyplot.tight_layout` function. The [`tight_layout`][1] function automatically adjusts the parameters of the subplots so that they fit nicely within the figure. \n\nLet's go ahead and give it a try now to see how well it works.\n\n[1]: http://matplotlib.org/users/tight_layout_guide.html", 
            "cell_type": "markdown"
        }, 
        {
            "source": "plt.subplots(3, 2)\nplt.tight_layout();", 
            "metadata": {}, 
            "execution_count": null, 
            "cell_type": "code", 
            "outputs": []
        }, 
        {
            "metadata": {}, 
            "source": "### `pyplot.subplots_adjust`\n\nWell, that looks much better! The `tight_layout` function is really nice and should solve most of your problems, but as of now, it's still an experimental feature and not guaranteed to work. If you do run into problems with it, you can fall back on the `pyplot.subplots_adjust` function to change some, or all, of the attributes of the grid. \n\nThe example below uses this function to adjust the vertical spacing, or hspace for height, between each plot.", 
            "cell_type": "markdown"
        }, 
        {
            "source": "plt.subplots(3, 2)\nplt.subplots_adjust(hspace=0.5);", 
            "metadata": {}, 
            "execution_count": null, 
            "cell_type": "code", 
            "outputs": []
        }, 
        {
            "metadata": {}, 
            "source": "Not quite as easy as calling the `tight_layout` function, but not exactly rocket science either.  \n\nWe just saw how to use the `tight_layout` and `subplots_adjust` functions to make minor tweaks to our grids that can help make our plots easier to read and comprehend. In the next lesson, we'll see how to use the subplotting features that we've learned in the last few lessons to create a very powerful visualization technique called a scatterplot matrix. Following that, we'll see how to create grids of subplots of varying shapes and sizes.", 
            "cell_type": "markdown"
        }, 
        {
            "metadata": {}, 
            "source": "## Conclusion\n\nAnd, that will bring this lesson to a close.  We just saw how to use the `subplot` and `subplots` functions to create grids of plots making it infinitely easier for us to compare different feature sets in our data. ", 
            "cell_type": "markdown"
        }
    ], 
    "nbformat_minor": 1
}