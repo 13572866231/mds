{
    "nbformat": 4, 
    "cells": [
        {
            "source": "# Modern Data Science (Module 01: Data Science)\n\n\n---\nAssociate Professor Gang Li | gang.li@deakin.edu.au<br />\n\nSchool of Information Technology, <br />\nDeakin University, VIC 3215, Australia.\n\n---\n\n\n## Session B - Operations in Pandas", 
            "cell_type": "markdown", 
            "metadata": {}
        }, 
        {
            "source": "# Pandas\n\nCredits: The following are notes taken while working through [Python for Data Analysis](http://www.amazon.com/Python-Data-Analysis-Wrangling-IPython/dp/1449319793) by Wes McKinney\n\n* Series\n* DataFrame\n* Reindexing\n* Dropping Entries\n* Indexing, Selecting, Filtering\n* Arithmetic and Data Alignment\n* Function Application and Mapping\n* Sorting and Ranking\n* Axis Indices with Duplicate Values\n* Summarizing and Computing Descriptive Statistics\n* Cleaning Data (Under Construction)\n* Input and Output (Under Construction)", 
            "cell_type": "markdown", 
            "metadata": {}
        }, 
        {
            "execution_count": null, 
            "cell_type": "code", 
            "metadata": {}, 
            "source": "from pandas import Series, DataFrame\nimport pandas as pd\nimport numpy as np", 
            "outputs": []
        }, 
        {
            "source": "## Series\n\nA Series is a one-dimensional array-like object containing an array of data and an associated array of data labels.  The data can be any NumPy data type and the labels are the Series' index.", 
            "cell_type": "markdown", 
            "metadata": {}
        }, 
        {
            "source": "Create a Series:", 
            "cell_type": "markdown", 
            "metadata": {}
        }, 
        {
            "execution_count": null, 
            "cell_type": "code", 
            "metadata": {}, 
            "source": "ser_1 = Series([1, 1, 2, -3, -5, 8, 13])\nser_1", 
            "outputs": []
        }, 
        {
            "source": "Get the array representation of a Series:", 
            "cell_type": "markdown", 
            "metadata": {}
        }, 
        {
            "execution_count": null, 
            "cell_type": "code", 
            "metadata": {}, 
            "source": "ser_1.values", 
            "outputs": []
        }, 
        {
            "source": "Index objects are immutable and hold the axis labels and metadata such as names and axis names.\n\nGet the index of the Series:", 
            "cell_type": "markdown", 
            "metadata": {}
        }, 
        {
            "execution_count": null, 
            "cell_type": "code", 
            "metadata": {}, 
            "source": "ser_1.index", 
            "outputs": []
        }, 
        {
            "source": "Create a Series with a custom index:", 
            "cell_type": "markdown", 
            "metadata": {}
        }, 
        {
            "execution_count": null, 
            "cell_type": "code", 
            "metadata": {}, 
            "source": "ser_2 = Series([1, 1, 2, -3, -5], index=['a', 'b', 'c', 'd', 'e'])\nser_2", 
            "outputs": []
        }, 
        {
            "source": "Get a value from a Series:", 
            "cell_type": "markdown", 
            "metadata": {}
        }, 
        {
            "execution_count": null, 
            "cell_type": "code", 
            "metadata": {}, 
            "source": "ser_2[4] == ser_2['e']", 
            "outputs": []
        }, 
        {
            "source": "Get a set of values from a Series by passing in a list:", 
            "cell_type": "markdown", 
            "metadata": {}
        }, 
        {
            "execution_count": null, 
            "cell_type": "code", 
            "metadata": {}, 
            "source": "ser_2[['c', 'a', 'b']]", 
            "outputs": []
        }, 
        {
            "source": "Get values great than 0:", 
            "cell_type": "markdown", 
            "metadata": {}
        }, 
        {
            "execution_count": null, 
            "cell_type": "code", 
            "metadata": {}, 
            "source": "ser_2[ser_2 > 0]", 
            "outputs": []
        }, 
        {
            "source": "Scalar multiply:", 
            "cell_type": "markdown", 
            "metadata": {}
        }, 
        {
            "execution_count": null, 
            "cell_type": "code", 
            "metadata": {}, 
            "source": "ser_2 * 2", 
            "outputs": []
        }, 
        {
            "source": "Apply a numpy math function:", 
            "cell_type": "markdown", 
            "metadata": {}
        }, 
        {
            "execution_count": null, 
            "cell_type": "code", 
            "metadata": {}, 
            "source": "import numpy as np\nnp.exp(ser_2)", 
            "outputs": []
        }, 
        {
            "source": "A Series is like a fixed-length, ordered dict.  \n\nCreate a series by passing in a dict:", 
            "cell_type": "markdown", 
            "metadata": {}
        }, 
        {
            "execution_count": null, 
            "cell_type": "code", 
            "metadata": {}, 
            "source": "dict_1 = {'foo' : 100, 'bar' : 200, 'baz' : 300}\nser_3 = Series(dict_1)\nser_3", 
            "outputs": []
        }, 
        {
            "source": "Re-order a Series by passing in an index (indices not found are NaN):", 
            "cell_type": "markdown", 
            "metadata": {}
        }, 
        {
            "execution_count": null, 
            "cell_type": "code", 
            "metadata": {}, 
            "source": "index = ['foo', 'bar', 'baz', 'qux']\nser_4 = Series(dict_1, index=index)\nser_4", 
            "outputs": []
        }, 
        {
            "source": "Check for NaN with the pandas method:", 
            "cell_type": "markdown", 
            "metadata": {}
        }, 
        {
            "execution_count": null, 
            "cell_type": "code", 
            "metadata": {}, 
            "source": "pd.isnull(ser_4)", 
            "outputs": []
        }, 
        {
            "source": "Check for NaN with the Series method:", 
            "cell_type": "markdown", 
            "metadata": {}
        }, 
        {
            "execution_count": null, 
            "cell_type": "code", 
            "metadata": {}, 
            "source": "ser_4.isnull()", 
            "outputs": []
        }, 
        {
            "source": "Series automatically aligns differently indexed data in arithmetic operations:", 
            "cell_type": "markdown", 
            "metadata": {}
        }, 
        {
            "execution_count": null, 
            "cell_type": "code", 
            "metadata": {}, 
            "source": "ser_3 + ser_4", 
            "outputs": []
        }, 
        {
            "source": "Name a Series:", 
            "cell_type": "markdown", 
            "metadata": {}
        }, 
        {
            "execution_count": null, 
            "cell_type": "code", 
            "metadata": {}, 
            "source": "ser_4.name = 'foobarbazqux'", 
            "outputs": []
        }, 
        {
            "source": "Name a Series index:", 
            "cell_type": "markdown", 
            "metadata": {}
        }, 
        {
            "execution_count": null, 
            "cell_type": "code", 
            "metadata": {}, 
            "source": "ser_4.index.name = 'label'", 
            "outputs": []
        }, 
        {
            "execution_count": null, 
            "cell_type": "code", 
            "metadata": {}, 
            "source": "ser_4", 
            "outputs": []
        }, 
        {
            "source": "Rename a Series' index in place:", 
            "cell_type": "markdown", 
            "metadata": {}
        }, 
        {
            "execution_count": null, 
            "cell_type": "code", 
            "metadata": {}, 
            "source": "ser_4.index = ['fo', 'br', 'bz', 'qx']\nser_4", 
            "outputs": []
        }, 
        {
            "source": "## DataFrame\n\nA DataFrame is a tabular data structure containing an ordered collection of columns.  Each column can have a different type.  DataFrames have both row and column indices and is analogous to a dict of Series.  Row and column operations are treated roughly symmetrically.  Columns returned when indexing a DataFrame are views of the underlying data, not a copy.  To obtain a copy, use the Series' copy method.\n\nCreate a DataFrame:", 
            "cell_type": "markdown", 
            "metadata": {}
        }, 
        {
            "execution_count": null, 
            "cell_type": "code", 
            "metadata": {}, 
            "source": "data_1 = {'state' : ['VA', 'VA', 'VA', 'MD', 'MD'],\n          'year' : [2012, 2013, 2014, 2014, 2015],\n          'pop' : [5.0, 5.1, 5.2, 4.0, 4.1]}\ndf_1 = DataFrame(data_1)\ndf_1", 
            "outputs": []
        }, 
        {
            "source": "Create a DataFrame specifying a sequence of columns:", 
            "cell_type": "markdown", 
            "metadata": {}
        }, 
        {
            "execution_count": null, 
            "cell_type": "code", 
            "metadata": {}, 
            "source": "df_2 = DataFrame(data_1, columns=['year', 'state', 'pop'])\ndf_2", 
            "outputs": []
        }, 
        {
            "source": "Like Series, columns that are not present in the data are NaN:", 
            "cell_type": "markdown", 
            "metadata": {}
        }, 
        {
            "execution_count": null, 
            "cell_type": "code", 
            "metadata": {}, 
            "source": "df_3 = DataFrame(data_1, columns=['year', 'state', 'pop', 'unempl'])\ndf_3", 
            "outputs": []
        }, 
        {
            "source": "Retrieve a column by key, returning a Series:\n", 
            "cell_type": "markdown", 
            "metadata": {}
        }, 
        {
            "execution_count": null, 
            "cell_type": "code", 
            "metadata": {}, 
            "source": "df_3['state']", 
            "outputs": []
        }, 
        {
            "source": "Retrive a column by attribute, returning a Series:", 
            "cell_type": "markdown", 
            "metadata": {}
        }, 
        {
            "execution_count": null, 
            "cell_type": "code", 
            "metadata": {}, 
            "source": "df_3.year", 
            "outputs": []
        }, 
        {
            "source": "Retrieve a row by position:", 
            "cell_type": "markdown", 
            "metadata": {}
        }, 
        {
            "execution_count": null, 
            "cell_type": "code", 
            "metadata": {}, 
            "source": "df_3.ix[0]", 
            "outputs": []
        }, 
        {
            "source": "Update a column by assignment:", 
            "cell_type": "markdown", 
            "metadata": {}
        }, 
        {
            "execution_count": null, 
            "cell_type": "code", 
            "metadata": {}, 
            "source": "df_3['unempl'] = np.arange(5)\ndf_3", 
            "outputs": []
        }, 
        {
            "source": "Assign a Series to a column (note if assigning a list or array, the length must match the DataFrame, unlike a Series):", 
            "cell_type": "markdown", 
            "metadata": {}
        }, 
        {
            "execution_count": null, 
            "cell_type": "code", 
            "metadata": {}, 
            "source": "unempl = Series([6.0, 6.0, 6.1], index=[2, 3, 4])\ndf_3['unempl'] = unempl\ndf_3", 
            "outputs": []
        }, 
        {
            "source": "Assign a new column that doesn't exist to create a new column:", 
            "cell_type": "markdown", 
            "metadata": {}
        }, 
        {
            "execution_count": null, 
            "cell_type": "code", 
            "metadata": {}, 
            "source": "df_3['state_dup'] = df_3['state']\ndf_3", 
            "outputs": []
        }, 
        {
            "source": "Delete a column:", 
            "cell_type": "markdown", 
            "metadata": {}
        }, 
        {
            "execution_count": null, 
            "cell_type": "code", 
            "metadata": {}, 
            "source": "del df_3['state_dup']\ndf_3", 
            "outputs": []
        }, 
        {
            "source": "Create a DataFrame from a nested dict of dicts (the keys in the inner dicts are unioned and sorted to form the index in the result, unless an explicit index is specified):", 
            "cell_type": "markdown", 
            "metadata": {}
        }, 
        {
            "execution_count": null, 
            "cell_type": "code", 
            "metadata": {}, 
            "source": "pop = {'VA' : {2013 : 5.1, 2014 : 5.2},\n       'MD' : {2014 : 4.0, 2015 : 4.1}}\ndf_4 = DataFrame(pop)\ndf_4", 
            "outputs": []
        }, 
        {
            "source": "Transpose the DataFrame:", 
            "cell_type": "markdown", 
            "metadata": {}
        }, 
        {
            "execution_count": null, 
            "cell_type": "code", 
            "metadata": {}, 
            "source": "df_4.T", 
            "outputs": []
        }, 
        {
            "source": "Create a DataFrame from a dict of Series:", 
            "cell_type": "markdown", 
            "metadata": {}
        }, 
        {
            "execution_count": null, 
            "cell_type": "code", 
            "metadata": {}, 
            "source": "data_2 = {'VA' : df_4['VA'][1:],\n          'MD' : df_4['MD'][2:]}\ndf_5 = DataFrame(data_2)\ndf_5", 
            "outputs": []
        }, 
        {
            "source": "Set the DataFrame index name:", 
            "cell_type": "markdown", 
            "metadata": {}
        }, 
        {
            "execution_count": null, 
            "cell_type": "code", 
            "metadata": {}, 
            "source": "df_5.index.name = 'year'\ndf_5", 
            "outputs": []
        }, 
        {
            "source": "Set the DataFrame columns name:", 
            "cell_type": "markdown", 
            "metadata": {}
        }, 
        {
            "execution_count": null, 
            "cell_type": "code", 
            "metadata": {}, 
            "source": "df_5.columns.name = 'state'\ndf_5", 
            "outputs": []
        }, 
        {
            "source": "Return the data contained in a DataFrame as a 2D ndarray:", 
            "cell_type": "markdown", 
            "metadata": {}
        }, 
        {
            "execution_count": null, 
            "cell_type": "code", 
            "metadata": {}, 
            "source": "df_5.values", 
            "outputs": []
        }, 
        {
            "source": "If the columns are different dtypes, the 2D ndarray's dtype will accomodate all of the columns:", 
            "cell_type": "markdown", 
            "metadata": {}
        }, 
        {
            "execution_count": null, 
            "cell_type": "code", 
            "metadata": {}, 
            "source": "df_3.values", 
            "outputs": []
        }, 
        {
            "source": "## Reindexing", 
            "cell_type": "markdown", 
            "metadata": {}
        }, 
        {
            "source": "Create a new object with the data conformed to a new index.  Any missing values are set to NaN.", 
            "cell_type": "markdown", 
            "metadata": {}
        }, 
        {
            "execution_count": null, 
            "cell_type": "code", 
            "metadata": {}, 
            "source": "df_3", 
            "outputs": []
        }, 
        {
            "source": "Reindexing rows returns a new frame with the specified index:", 
            "cell_type": "markdown", 
            "metadata": {}
        }, 
        {
            "execution_count": null, 
            "cell_type": "code", 
            "metadata": {}, 
            "source": "df_3.reindex(list(reversed(range(0, 6))))", 
            "outputs": []
        }, 
        {
            "source": "Missing values can be set to something other than NaN:", 
            "cell_type": "markdown", 
            "metadata": {}
        }, 
        {
            "execution_count": null, 
            "cell_type": "code", 
            "metadata": {}, 
            "source": "df_3.reindex(range(6, 0), fill_value=0)", 
            "outputs": []
        }, 
        {
            "source": "Interpolate ordered data like a time series:", 
            "cell_type": "markdown", 
            "metadata": {}
        }, 
        {
            "execution_count": null, 
            "cell_type": "code", 
            "metadata": {}, 
            "source": "ser_5 = Series(['foo', 'bar', 'baz'], index=[0, 2, 4])", 
            "outputs": []
        }, 
        {
            "execution_count": null, 
            "cell_type": "code", 
            "metadata": {}, 
            "source": "ser_5.reindex(range(5), method='ffill')", 
            "outputs": []
        }, 
        {
            "execution_count": null, 
            "cell_type": "code", 
            "metadata": {}, 
            "source": "ser_5.reindex(range(5), method='bfill')", 
            "outputs": []
        }, 
        {
            "source": "Reindex columns:", 
            "cell_type": "markdown", 
            "metadata": {}
        }, 
        {
            "execution_count": null, 
            "cell_type": "code", 
            "metadata": {}, 
            "source": "df_3.reindex(columns=['state', 'pop', 'unempl', 'year'])", 
            "outputs": []
        }, 
        {
            "source": "Reindex rows and columns while filling rows:", 
            "cell_type": "markdown", 
            "metadata": {}
        }, 
        {
            "execution_count": null, 
            "cell_type": "code", 
            "metadata": {}, 
            "source": "df_3.reindex(index=list(reversed(range(0, 6))),\n             fill_value=0,\n             columns=['state', 'pop', 'unempl', 'year'])", 
            "outputs": []
        }, 
        {
            "source": "Reindex using ix:", 
            "cell_type": "markdown", 
            "metadata": {}
        }, 
        {
            "execution_count": null, 
            "cell_type": "code", 
            "metadata": {}, 
            "source": "df_6 = df_3.ix[range(0, 7), ['state', 'pop', 'unempl', 'year']]\ndf_6", 
            "outputs": []
        }, 
        {
            "source": "## Dropping Entries", 
            "cell_type": "markdown", 
            "metadata": {}
        }, 
        {
            "source": "Drop rows from a Series or DataFrame:", 
            "cell_type": "markdown", 
            "metadata": {}
        }, 
        {
            "execution_count": null, 
            "cell_type": "code", 
            "metadata": {}, 
            "source": "df_7 = df_6.drop([0, 1])\ndf_7", 
            "outputs": []
        }, 
        {
            "source": "Drop columns from a DataFrame:", 
            "cell_type": "markdown", 
            "metadata": {}
        }, 
        {
            "execution_count": null, 
            "cell_type": "code", 
            "metadata": {}, 
            "source": "df_7 = df_7.drop('unempl', axis=1)\ndf_7", 
            "outputs": []
        }, 
        {
            "source": "## Indexing, Selecting, Filtering", 
            "cell_type": "markdown", 
            "metadata": {}
        }, 
        {
            "source": "Series indexing is similar to NumPy array indexing with the added bonus of being able to use the Series' index values.", 
            "cell_type": "markdown", 
            "metadata": {}
        }, 
        {
            "execution_count": null, 
            "cell_type": "code", 
            "metadata": {}, 
            "source": "ser_2", 
            "outputs": []
        }, 
        {
            "source": "Select a value from a Series:", 
            "cell_type": "markdown", 
            "metadata": {}
        }, 
        {
            "execution_count": null, 
            "cell_type": "code", 
            "metadata": {}, 
            "source": "ser_2[0] == ser_2['a']", 
            "outputs": []
        }, 
        {
            "source": "Select a slice from a Series:", 
            "cell_type": "markdown", 
            "metadata": {}
        }, 
        {
            "execution_count": null, 
            "cell_type": "code", 
            "metadata": {}, 
            "source": "ser_2[1:4]", 
            "outputs": []
        }, 
        {
            "source": "Select specific values from a Series:", 
            "cell_type": "markdown", 
            "metadata": {}
        }, 
        {
            "execution_count": null, 
            "cell_type": "code", 
            "metadata": {}, 
            "source": "ser_2[['b', 'c', 'd']]", 
            "outputs": []
        }, 
        {
            "source": "Select from a Series based on a filter:", 
            "cell_type": "markdown", 
            "metadata": {}
        }, 
        {
            "execution_count": null, 
            "cell_type": "code", 
            "metadata": {}, 
            "source": "ser_2[ser_2 > 0]", 
            "outputs": []
        }, 
        {
            "source": "Select a slice from a Series with labels (note the end point is inclusive):", 
            "cell_type": "markdown", 
            "metadata": {}
        }, 
        {
            "execution_count": null, 
            "cell_type": "code", 
            "metadata": {}, 
            "source": "ser_2['a':'b']", 
            "outputs": []
        }, 
        {
            "source": "Assign to a Series slice (note the end point is inclusive):", 
            "cell_type": "markdown", 
            "metadata": {}
        }, 
        {
            "execution_count": null, 
            "cell_type": "code", 
            "metadata": {}, 
            "source": "ser_2['a':'b'] = 0\nser_2", 
            "outputs": []
        }, 
        {
            "source": "Pandas supports indexing into a DataFrame.", 
            "cell_type": "markdown", 
            "metadata": {}
        }, 
        {
            "execution_count": null, 
            "cell_type": "code", 
            "metadata": {}, 
            "source": "df_6", 
            "outputs": []
        }, 
        {
            "source": "Select specified columns from a DataFrame:", 
            "cell_type": "markdown", 
            "metadata": {}
        }, 
        {
            "execution_count": null, 
            "cell_type": "code", 
            "metadata": {}, 
            "source": "df_6[['pop', 'unempl']]", 
            "outputs": []
        }, 
        {
            "source": "Select a slice from a DataFrame:", 
            "cell_type": "markdown", 
            "metadata": {}
        }, 
        {
            "execution_count": null, 
            "cell_type": "code", 
            "metadata": {}, 
            "source": "df_6[:2]", 
            "outputs": []
        }, 
        {
            "source": "Select from a DataFrame based on a filter:", 
            "cell_type": "markdown", 
            "metadata": {}
        }, 
        {
            "execution_count": null, 
            "cell_type": "code", 
            "metadata": {}, 
            "source": "df_6[df_6['pop'] > 5]", 
            "outputs": []
        }, 
        {
            "source": "Perform a scalar comparison on a DataFrame:", 
            "cell_type": "markdown", 
            "metadata": {}
        }, 
        {
            "execution_count": null, 
            "cell_type": "code", 
            "metadata": {}, 
            "source": "df_6 > 5", 
            "outputs": []
        }, 
        {
            "source": "Perform a scalar comparison on a DataFrame, retain the values that pass the filter:", 
            "cell_type": "markdown", 
            "metadata": {}
        }, 
        {
            "execution_count": null, 
            "cell_type": "code", 
            "metadata": {}, 
            "source": "df_6[df_6 > 5]", 
            "outputs": []
        }, 
        {
            "source": "Select a slice of rows from a DataFrame (note the end point is inclusive):", 
            "cell_type": "markdown", 
            "metadata": {}
        }, 
        {
            "execution_count": null, 
            "cell_type": "code", 
            "metadata": {}, 
            "source": "df_6.ix[2:3]", 
            "outputs": []
        }, 
        {
            "source": "Select a slice of rows from a specific column of a DataFrame:", 
            "cell_type": "markdown", 
            "metadata": {}
        }, 
        {
            "execution_count": null, 
            "cell_type": "code", 
            "metadata": {}, 
            "source": "df_6.ix[0:2, 'pop']", 
            "outputs": []
        }, 
        {
            "source": "Select rows based on an arithmetic operation on a specific row:", 
            "cell_type": "markdown", 
            "metadata": {}
        }, 
        {
            "execution_count": null, 
            "cell_type": "code", 
            "metadata": {}, 
            "source": "df_6.ix[df_6.unempl > 5.0]", 
            "outputs": []
        }, 
        {
            "source": "## Arithmetic and Data Alignment", 
            "cell_type": "markdown", 
            "metadata": {}
        }, 
        {
            "source": "Adding Series objects results in the union of index pairs if the pairs are not the same, resulting in NaN for indices that do not overlap:", 
            "cell_type": "markdown", 
            "metadata": {}
        }, 
        {
            "execution_count": null, 
            "cell_type": "code", 
            "metadata": {}, 
            "source": "np.random.seed(0)\nser_6 = Series(np.random.randn(5),\n               index=['a', 'b', 'c', 'd', 'e'])\nser_6", 
            "outputs": []
        }, 
        {
            "execution_count": null, 
            "cell_type": "code", 
            "metadata": {}, 
            "source": "np.random.seed(1)\nser_7 = Series(np.random.randn(5),\n               index=['a', 'c', 'e', 'f', 'g'])\nser_7", 
            "outputs": []
        }, 
        {
            "execution_count": null, 
            "cell_type": "code", 
            "metadata": {}, 
            "source": "ser_6 + ser_7", 
            "outputs": []
        }, 
        {
            "source": "Set a fill value instead of NaN for indices that do not overlap:", 
            "cell_type": "markdown", 
            "metadata": {}
        }, 
        {
            "execution_count": null, 
            "cell_type": "code", 
            "metadata": {}, 
            "source": "ser_6.add(ser_7, fill_value=0)", 
            "outputs": []
        }, 
        {
            "source": "Adding DataFrame objects results in the union of index pairs for rows and columns if the pairs are not the same, resulting in NaN for indices that do not overlap:", 
            "cell_type": "markdown", 
            "metadata": {}
        }, 
        {
            "execution_count": null, 
            "cell_type": "code", 
            "metadata": {}, 
            "source": "np.random.seed(0)\ndf_8 = DataFrame(np.random.rand(9).reshape((3, 3)),\n                 columns=['a', 'b', 'c'])\ndf_8", 
            "outputs": []
        }, 
        {
            "execution_count": null, 
            "cell_type": "code", 
            "metadata": {}, 
            "source": "np.random.seed(1)\ndf_9 = DataFrame(np.random.rand(9).reshape((3, 3)),\n                 columns=['b', 'c', 'd'])\ndf_9", 
            "outputs": []
        }, 
        {
            "execution_count": null, 
            "cell_type": "code", 
            "metadata": {}, 
            "source": "df_8 + df_9", 
            "outputs": []
        }, 
        {
            "source": "Set a fill value instead of NaN for indices that do not overlap:", 
            "cell_type": "markdown", 
            "metadata": {}
        }, 
        {
            "execution_count": null, 
            "cell_type": "code", 
            "metadata": {}, 
            "source": "df_10 = df_8.add(df_9, fill_value=0)\ndf_10", 
            "outputs": []
        }, 
        {
            "source": "Like NumPy, pandas supports arithmetic operations between DataFrames and Series.\n\nMatch the index of the Series on the DataFrame's columns, broadcasting down the rows:", 
            "cell_type": "markdown", 
            "metadata": {}
        }, 
        {
            "execution_count": null, 
            "cell_type": "code", 
            "metadata": {}, 
            "source": "ser_8 = df_10.ix[0]\ndf_11 = df_10 - ser_8\ndf_11", 
            "outputs": []
        }, 
        {
            "source": "Match the index of the Series on the DataFrame's columns, broadcasting down the rows and union the indices that do not match:", 
            "cell_type": "markdown", 
            "metadata": {}
        }, 
        {
            "execution_count": null, 
            "cell_type": "code", 
            "metadata": {}, 
            "source": "ser_9 = Series(range(3), index=['a', 'd', 'e'])\nser_9", 
            "outputs": []
        }, 
        {
            "execution_count": null, 
            "cell_type": "code", 
            "metadata": {}, 
            "source": "df_11 - ser_9", 
            "outputs": []
        }, 
        {
            "source": "Broadcast over the columns and match the rows (axis=0) by using an arithmetic method:", 
            "cell_type": "markdown", 
            "metadata": {}
        }, 
        {
            "execution_count": null, 
            "cell_type": "code", 
            "metadata": {}, 
            "source": "df_10", 
            "outputs": []
        }, 
        {
            "execution_count": null, 
            "cell_type": "code", 
            "metadata": {}, 
            "source": "ser_10 = Series([100, 200, 300])\nser_10", 
            "outputs": []
        }, 
        {
            "execution_count": null, 
            "cell_type": "code", 
            "metadata": {}, 
            "source": "df_10.sub(ser_10, axis=0)", 
            "outputs": []
        }, 
        {
            "source": "## Function Application and Mapping", 
            "cell_type": "markdown", 
            "metadata": {}
        }, 
        {
            "source": "NumPy ufuncs (element-wise array methods) operate on pandas objects:", 
            "cell_type": "markdown", 
            "metadata": {}
        }, 
        {
            "execution_count": null, 
            "cell_type": "code", 
            "metadata": {}, 
            "source": "df_11 = np.abs(df_11)\ndf_11", 
            "outputs": []
        }, 
        {
            "source": "Apply a function on 1D arrays to each column:", 
            "cell_type": "markdown", 
            "metadata": {}
        }, 
        {
            "execution_count": null, 
            "cell_type": "code", 
            "metadata": {}, 
            "source": "func_1 = lambda x: x.max() - x.min()\ndf_11.apply(func_1)", 
            "outputs": []
        }, 
        {
            "source": "Apply a function on 1D arrays to each row:", 
            "cell_type": "markdown", 
            "metadata": {}
        }, 
        {
            "execution_count": null, 
            "cell_type": "code", 
            "metadata": {}, 
            "source": "df_11.apply(func_1, axis=1)", 
            "outputs": []
        }, 
        {
            "source": "Apply a function and return a DataFrame:", 
            "cell_type": "markdown", 
            "metadata": {}
        }, 
        {
            "execution_count": null, 
            "cell_type": "code", 
            "metadata": {}, 
            "source": "func_2 = lambda x: Series([x.min(), x.max()], index=['min', 'max'])\ndf_11.apply(func_2)", 
            "outputs": []
        }, 
        {
            "source": "Apply an element-wise Python function to a DataFrame:", 
            "cell_type": "markdown", 
            "metadata": {}
        }, 
        {
            "execution_count": null, 
            "cell_type": "code", 
            "metadata": {}, 
            "source": "func_3 = lambda x: '%.2f' %x\ndf_11.applymap(func_3)", 
            "outputs": []
        }, 
        {
            "source": "Apply an element-wise Python function to a Series:", 
            "cell_type": "markdown", 
            "metadata": {}
        }, 
        {
            "execution_count": null, 
            "cell_type": "code", 
            "metadata": {}, 
            "source": "df_11['a'].map(func_3)", 
            "outputs": []
        }, 
        {
            "source": "## Sorting and Ranking", 
            "cell_type": "markdown", 
            "metadata": {}
        }, 
        {
            "execution_count": null, 
            "cell_type": "code", 
            "metadata": {}, 
            "source": "ser_4", 
            "outputs": []
        }, 
        {
            "source": "Sort a Series by its index:", 
            "cell_type": "markdown", 
            "metadata": {}
        }, 
        {
            "execution_count": null, 
            "cell_type": "code", 
            "metadata": {}, 
            "source": "ser_4.sort_index()", 
            "outputs": []
        }, 
        {
            "source": "Sort a Series by its values:", 
            "cell_type": "markdown", 
            "metadata": {}
        }, 
        {
            "execution_count": null, 
            "cell_type": "code", 
            "metadata": {}, 
            "source": "ser_4.sort_values()", 
            "outputs": []
        }, 
        {
            "execution_count": null, 
            "cell_type": "code", 
            "metadata": {}, 
            "source": "df_12 = DataFrame(np.arange(12).reshape((3, 4)),\n                  index=['three', 'one', 'two'],\n                  columns=['c', 'a', 'b', 'd'])\ndf_12", 
            "outputs": []
        }, 
        {
            "source": "Sort a DataFrame by its index:", 
            "cell_type": "markdown", 
            "metadata": {}
        }, 
        {
            "execution_count": null, 
            "cell_type": "code", 
            "metadata": {}, 
            "source": "df_12.sort_index()", 
            "outputs": []
        }, 
        {
            "source": "Sort a DataFrame by columns in descending order:", 
            "cell_type": "markdown", 
            "metadata": {}
        }, 
        {
            "execution_count": null, 
            "cell_type": "code", 
            "metadata": {}, 
            "source": "df_12.sort_index(axis=1, ascending=False)", 
            "outputs": []
        }, 
        {
            "source": "Sort a DataFrame's values by column:", 
            "cell_type": "markdown", 
            "metadata": {}
        }, 
        {
            "execution_count": null, 
            "cell_type": "code", 
            "metadata": {}, 
            "source": "df_12.sort_values(by=['d', 'c'])", 
            "outputs": []
        }, 
        {
            "source": "Ranking is similar to numpy.argsort except that ties are broken by assigning each group the mean rank:", 
            "cell_type": "markdown", 
            "metadata": {}
        }, 
        {
            "execution_count": null, 
            "cell_type": "code", 
            "metadata": {}, 
            "source": "ser_11 = Series([7, -5, 7, 4, 2, 0, 4, 7])\nser_11 = ser_11.sort_values()\nser_11", 
            "outputs": []
        }, 
        {
            "execution_count": null, 
            "cell_type": "code", 
            "metadata": {}, 
            "source": "ser_11.rank()", 
            "outputs": []
        }, 
        {
            "source": "Rank a Series according to when they appear in the data:", 
            "cell_type": "markdown", 
            "metadata": {}
        }, 
        {
            "execution_count": null, 
            "cell_type": "code", 
            "metadata": {}, 
            "source": "ser_11.rank(method='first')", 
            "outputs": []
        }, 
        {
            "source": "Rank a Series in descending order, using the maximum rank for the group:", 
            "cell_type": "markdown", 
            "metadata": {}
        }, 
        {
            "execution_count": null, 
            "cell_type": "code", 
            "metadata": {}, 
            "source": "ser_11.rank(ascending=False, method='max')", 
            "outputs": []
        }, 
        {
            "source": "DataFrames can rank over rows or columns.", 
            "cell_type": "markdown", 
            "metadata": {}
        }, 
        {
            "execution_count": null, 
            "cell_type": "code", 
            "metadata": {}, 
            "source": "df_13 = DataFrame({'foo' : [7, -5, 7, 4, 2, 0, 4, 7],\n                   'bar' : [-5, 4, 2, 0, 4, 7, 7, 8],\n                   'baz' : [-1, 2, 3, 0, 5, 9, 9, 5]})\ndf_13", 
            "outputs": []
        }, 
        {
            "source": "Rank a DataFrame over rows:", 
            "cell_type": "markdown", 
            "metadata": {}
        }, 
        {
            "execution_count": null, 
            "cell_type": "code", 
            "metadata": {}, 
            "source": "df_13.rank()", 
            "outputs": []
        }, 
        {
            "source": "Rank a DataFrame over columns:", 
            "cell_type": "markdown", 
            "metadata": {}
        }, 
        {
            "execution_count": null, 
            "cell_type": "code", 
            "metadata": {}, 
            "source": "df_13.rank(axis=1)", 
            "outputs": []
        }, 
        {
            "source": "## Axis Indexes with Duplicate Values", 
            "cell_type": "markdown", 
            "metadata": {}
        }, 
        {
            "source": "Labels do not have to be unique in Pandas:", 
            "cell_type": "markdown", 
            "metadata": {}
        }, 
        {
            "execution_count": null, 
            "cell_type": "code", 
            "metadata": {}, 
            "source": "ser_12 = Series(range(5), index=['foo', 'foo', 'bar', 'bar', 'baz'])\nser_12", 
            "outputs": []
        }, 
        {
            "execution_count": null, 
            "cell_type": "code", 
            "metadata": {}, 
            "source": "ser_12.index.is_unique", 
            "outputs": []
        }, 
        {
            "source": "Select Series elements:", 
            "cell_type": "markdown", 
            "metadata": {}
        }, 
        {
            "execution_count": null, 
            "cell_type": "code", 
            "metadata": {}, 
            "source": "ser_12['foo']", 
            "outputs": []
        }, 
        {
            "source": "Select DataFrame elements:", 
            "cell_type": "markdown", 
            "metadata": {}
        }, 
        {
            "execution_count": null, 
            "cell_type": "code", 
            "metadata": {}, 
            "source": "df_14 = DataFrame(np.random.randn(5, 4),\n                  index=['foo', 'foo', 'bar', 'bar', 'baz'])\ndf_14", 
            "outputs": []
        }, 
        {
            "execution_count": null, 
            "cell_type": "code", 
            "metadata": {}, 
            "source": "df_14.ix['bar']", 
            "outputs": []
        }, 
        {
            "source": "## Summarizing and Computing Descriptive Statistics", 
            "cell_type": "markdown", 
            "metadata": {}
        }, 
        {
            "source": "Unlike NumPy arrays, Pandas descriptive statistics automatically exclude missing data.  NaN values are excluded unless the entire row or column is NA.", 
            "cell_type": "markdown", 
            "metadata": {}
        }, 
        {
            "execution_count": null, 
            "cell_type": "code", 
            "metadata": {}, 
            "source": "df_6", 
            "outputs": []
        }, 
        {
            "execution_count": null, 
            "cell_type": "code", 
            "metadata": {}, 
            "source": "df_6.sum()", 
            "outputs": []
        }, 
        {
            "source": "Sum over the rows:", 
            "cell_type": "markdown", 
            "metadata": {}
        }, 
        {
            "execution_count": null, 
            "cell_type": "code", 
            "metadata": {}, 
            "source": "df_6.sum(axis=1)", 
            "outputs": []
        }, 
        {
            "source": "Account for NaNs:", 
            "cell_type": "markdown", 
            "metadata": {}
        }, 
        {
            "execution_count": null, 
            "cell_type": "code", 
            "metadata": {}, 
            "source": "df_6.sum(axis=1, skipna=False)", 
            "outputs": []
        }, 
        {
            "source": "## Cleaning Data (Under Construction)\n* Replace\n* Drop\n* Concatenate", 
            "cell_type": "markdown", 
            "metadata": {}
        }, 
        {
            "execution_count": null, 
            "cell_type": "code", 
            "metadata": {}, 
            "source": "from pandas import Series, DataFrame\nimport pandas as pd", 
            "outputs": []
        }, 
        {
            "source": "Setup a DataFrame:", 
            "cell_type": "markdown", 
            "metadata": {}
        }, 
        {
            "execution_count": null, 
            "cell_type": "code", 
            "metadata": {}, 
            "source": "data_1 = {'state' : ['VA', 'VA', 'VA', 'MD', 'MD'],\n          'year' : [2012, 2013, 2014, 2014, 2015],\n          'population' : [5.0, 5.1, 5.2, 4.0, 4.1]}\ndf_1 = DataFrame(data_1)\ndf_1", 
            "outputs": []
        }, 
        {
            "source": "### Replace", 
            "cell_type": "markdown", 
            "metadata": {}
        }, 
        {
            "source": "Replace all occurrences of a string with another string, in place (no copy):", 
            "cell_type": "markdown", 
            "metadata": {}
        }, 
        {
            "execution_count": null, 
            "cell_type": "code", 
            "metadata": {}, 
            "source": "df_1.replace('VA', 'VIRGINIA', inplace=True)\ndf_1", 
            "outputs": []
        }, 
        {
            "source": "In a specified column, replace all occurrences of a string with another string, in place (no copy):", 
            "cell_type": "markdown", 
            "metadata": {}
        }, 
        {
            "execution_count": null, 
            "cell_type": "code", 
            "metadata": {}, 
            "source": "df_1.replace({'state' : { 'MD' : 'MARYLAND' }}, inplace=True)\ndf_1", 
            "outputs": []
        }, 
        {
            "source": "### Drop", 
            "cell_type": "markdown", 
            "metadata": {}
        }, 
        {
            "source": "Drop the 'population' column and return a copy of the DataFrame:", 
            "cell_type": "markdown", 
            "metadata": {}
        }, 
        {
            "execution_count": null, 
            "cell_type": "code", 
            "metadata": {}, 
            "source": "df_2 = df_1.drop('population', axis=1)\ndf_2", 
            "outputs": []
        }, 
        {
            "source": "### Concatenate", 
            "cell_type": "markdown", 
            "metadata": {}
        }, 
        {
            "source": "Concatenate two DataFrames:", 
            "cell_type": "markdown", 
            "metadata": {}
        }, 
        {
            "execution_count": null, 
            "cell_type": "code", 
            "metadata": {}, 
            "source": "data_2 = {'state' : ['NY', 'NY', 'NY', 'FL', 'FL'],\n          'year' : [2012, 2013, 2014, 2014, 2015],\n          'population' : [6.0, 6.1, 6.2, 3.0, 3.1]}\ndf_3 = DataFrame(data_2)\ndf_3", 
            "outputs": []
        }, 
        {
            "execution_count": null, 
            "cell_type": "code", 
            "metadata": {}, 
            "source": "df_4 = pd.concat([df_1, df_3])\ndf_4", 
            "outputs": []
        }, 
        {
            "source": "## Input and Output (Under Construction)\n* Reading\n* Writing", 
            "cell_type": "markdown", 
            "metadata": {}
        }, 
        {
            "execution_count": null, 
            "cell_type": "code", 
            "metadata": {}, 
            "source": "from pandas import Series, DataFrame\nimport pandas as pd", 
            "outputs": []
        }, 
        {
            "source": "### Reading", 
            "cell_type": "markdown", 
            "metadata": {}
        }, 
        {
            "source": "Read data from a CSV file into a DataFrame (use sep='\\t' for TSV):", 
            "cell_type": "markdown", 
            "metadata": {}
        }, 
        {
            "execution_count": null, 
            "cell_type": "code", 
            "metadata": {}, 
            "source": "import wget\n\nlink_to_data = 'https://github.com/tuliplab/mds/raw/master/Jupyter/data/ozone.csv'\nDataSet = wget.download(link_to_data)\n\ndf_1 = pd.read_csv(\"ozone.csv\")", 
            "outputs": []
        }, 
        {
            "source": "Get a summary of the DataFrame:", 
            "cell_type": "markdown", 
            "metadata": {}
        }, 
        {
            "execution_count": null, 
            "cell_type": "code", 
            "metadata": {}, 
            "source": "df_1.describe()", 
            "outputs": []
        }, 
        {
            "source": "List the first five rows of the DataFrame:", 
            "cell_type": "markdown", 
            "metadata": {}
        }, 
        {
            "execution_count": null, 
            "cell_type": "code", 
            "metadata": {}, 
            "source": "df_1.head()", 
            "outputs": []
        }, 
        {
            "source": "### Writing", 
            "cell_type": "markdown", 
            "metadata": {}
        }, 
        {
            "source": "Create a copy of the CSV file, encoded in UTF-8 and hiding the index and header labels:", 
            "cell_type": "markdown", 
            "metadata": {}
        }, 
        {
            "execution_count": null, 
            "cell_type": "code", 
            "metadata": {}, 
            "source": "df_1.to_csv('ozone_copy.csv', \n            encoding='utf-8', \n            index=False, \n            header=False)", 
            "outputs": []
        }, 
        {
            "source": "View the data directory:", 
            "cell_type": "markdown", 
            "metadata": {}
        }, 
        {
            "execution_count": null, 
            "cell_type": "code", 
            "metadata": {}, 
            "source": "!ls -l ./", 
            "outputs": []
        }
    ], 
    "metadata": {
        "language_info": {
            "pygments_lexer": "ipython3", 
            "version": "3.5.2", 
            "codemirror_mode": {
                "version": 3, 
                "name": "ipython"
            }, 
            "mimetype": "text/x-python", 
            "name": "python", 
            "file_extension": ".py", 
            "nbconvert_exporter": "python"
        }, 
        "kernelspec": {
            "language": "python", 
            "display_name": "Python 3.5 (Experimental) with Spark 2.1", 
            "name": "python3-spark21"
        }, 
        "anaconda-cloud": {}
    }, 
    "nbformat_minor": 1
}