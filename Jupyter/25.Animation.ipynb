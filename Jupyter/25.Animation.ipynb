{
 "cells": [
  {
   "cell_type": "markdown",
   "metadata": {},
   "source": [
    "# FLIP (00) Data Vis and Linear Algebra\n",
    "\n",
    "---\n",
    "Team Director: Xiaojuan Cheng | xjcheng@tulip.academy<br />\n",
    "\n",
    "TULIP Academy <br />\n",
    "http://www.tulip.academy\n",
    "\n",
    "---\n",
    "## Introduction\n",
    "The easiest way to make a live animation in matplotlib is to use one of the Animation classes."
   ]
  },
  {
   "cell_type": "code",
   "execution_count": 1,
   "metadata": {
    "collapsed": false
   },
   "outputs": [
    {
     "data": {
      "image/png": "[encoded data removed]",
      "text/plain": [
       "<matplotlib.figure.Figure at 0x7974908>"
      ]
     },
     "metadata": {},
     "output_type": "display_data"
    }
   ],
   "source": [
    "#%matplotlib notebook\n",
    "\n",
    "import numpy as np\n",
    "from matplotlib import pyplot as plt\n",
    "from matplotlib import animation\n",
    "\n",
    "fig = plt.figure()\n",
    "# fig.set_dpi(100)\n",
    "fig.set_size_inches(6, 6)\n",
    "\n",
    "ax = plt.axes(xlim=(0, 10), ylim=(0, 10))\n",
    "patch = plt.Circle((5, -5), 0.75, fc='y')\n",
    "\n",
    "def init():\n",
    "    patch.center = (5, 5)\n",
    "    ax.add_patch(patch)\n",
    "    return patch,\n",
    "\n",
    "def animate(i):\n",
    "    x, y = patch.center\n",
    "    x = 5 + 3 * np.sin(np.radians(i*4))\n",
    "    y = 5 + 3 * np.cos(np.radians(i*4))\n",
    "    patch.center = (x, y)\n",
    "    return patch,\n",
    "\n",
    "anim = animation.FuncAnimation(fig, animate, \n",
    "                               init_func=init, \n",
    "                               frames=360, \n",
    "                               interval=20,\n",
    "                               blit=True)\n",
    "\n",
    "plt.show()\n"
   ]
  }
 ],
 "metadata": {
  "anaconda-cloud": {},
  "kernelspec": {
   "display_name": "Python [conda root]",
   "language": "python",
   "name": "conda-root-py"
  },
  "language_info": {
   "codemirror_mode": {
    "name": "ipython",
    "version": 2
   },
   "file_extension": ".py",
   "mimetype": "text/x-python",
   "name": "python",
   "nbconvert_exporter": "python",
   "pygments_lexer": "ipython2",
   "version": "2.7.12"
  }
 },
 "nbformat": 4,
 "nbformat_minor": 0
}
