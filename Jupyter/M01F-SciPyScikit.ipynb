{
    "nbformat": 4, 
    "metadata": {
        "language_info": {
            "version": "3.5.2", 
            "nbconvert_exporter": "python", 
            "name": "python", 
            "pygments_lexer": "ipython3", 
            "mimetype": "text/x-python", 
            "codemirror_mode": {
                "version": 3, 
                "name": "ipython"
            }, 
            "file_extension": ".py"
        }, 
        "kernelspec": {
            "language": "python", 
            "name": "python3", 
            "display_name": "Python 3.5 (Experimental) with Spark 1.6 (Unsupported)"
        }
    }, 
    "cells": [
        {
            "source": "# Modern Data Science \n**(Module 01: A Touch of Data Science)**\n\n---\n- Materials in this module include resources collected from various open-source online repositories.\n- You are free to use, change and distribute this package.\n\nPrepared by and for \n**Student Members** |\n2006-2018 [TULIP Lab](http://www.tulip.org.au), Australia\n\n---\n\n\n# Session F - SciPy and Scikit-Learn\n\n**The purpose of this session is to illustrate**\n\n1. How to test installed Numpy and Scikit-Learn packages\n2. How to use scikit-lean to load datasets and examine their properties, getting ready for ML tasks.\n\n** References and additional reading and resources**\n- [Installing scikit-learn](http://scikit-learn.org/stable/install.html)\n- [Lectures on scientific computing with Python](https://github.com/jrjohansson/scientific-python-lectures)\n", 
            "metadata": {}, 
            "cell_type": "markdown"
        }, 
        {
            "source": "##  Scipy: Scientific Computing Tools for Python\n\n<!--span style=\"color:#0b486b\">3. Scipy: Scientific Computing Tools for Python</span-->", 
            "metadata": {}, 
            "cell_type": "markdown"
        }, 
        {
            "source": "[SciPy](https://www.scipy.org) (pronounced \u201cSigh Pie\u201d) is a Python-based ecosystem of open-source software for mathematics, science, and engineering. In particular, the SciPy ecosystem these are some of the core packages:\n\n- Numpy: a base N-dimensional array package\n- Matplotlib: a package that allows you to create charts and plots from data.\n- Pandas: tools and data structures to organize and analyze your data.\n- SciPy library: a fundamental library for scientific computing such as optimization.\n\nAll of these packages are pre-installed when you install the Anaconda. You can check the availibility and versions of above packages as follows:", 
            "metadata": {}, 
            "cell_type": "markdown"
        }, 
        {
            "execution_count": 1, 
            "metadata": {}, 
            "source": "# scipy\nimport scipy\nprint('The scipy version is {}'.format(scipy.__version__))\n\n# numpy\nimport numpy\nprint(\"The numpy version is {}.\".format(numpy.__version__))\n\n# matplotlib\nimport matplotlib\nprint('The matplotlib version is {}'.format(matplotlib.__version__))\n\n# pandas\nimport pandas\nprint('The pandas version is {}'.format(pandas.__version__))", 
            "outputs": [
                {
                    "name": "stdout", 
                    "output_type": "stream", 
                    "text": "The scipy version is 0.17.1\nThe numpy version is 1.11.1.\nThe matplotlib version is 1.5.1\nThe pandas version is 0.18.1\n"
                }
            ], 
            "cell_type": "code"
        }, 
        {
            "source": "We now briefly go through these packages to know NumPy, Matplotlib and Pandas to read and write machine learning Python\nscripts.", 
            "metadata": {}, 
            "cell_type": "markdown"
        }, 
        {
            "source": "## Numpy<!--3.1 Numpy-->", 
            "metadata": {}, 
            "cell_type": "markdown"
        }, 
        {
            "source": "[Numpy](http://www.numpy.org/) is the core library for scientific computing in Python. It provides a high-performance multidimensional array object, and tools for working with these arrays. Numpy is a pre-built package included in Anaconda 3. You only need to import to use the package.", 
            "metadata": {}, 
            "cell_type": "markdown"
        }, 
        {
            "source": "\n###  Arrays<!--3.1.1 Arrays-->\nA numpy array is a grid of values, all of the same type, and is indexed by a tuple of nonnegative integers. The number of dimensions is the <em>rank</em> of the array; the <em>shape</em> of an array is a tuple of integers giving the size of the array along each dimension.\nYou can initialize numpy arrays from nested Python lists or use pre-defined functions to create arrays", 
            "metadata": {}, 
            "cell_type": "markdown"
        }, 
        {
            "execution_count": 2, 
            "metadata": {}, 
            "source": "import numpy as np\n\n\na = np.array([1, 2, 3])   # Create a rank 1 array\nb = np.array([[1,2,3],[4,5,6]])    # Create a rank 2 array\n\nprint(\"Arrays are created from nested Python lists\\n\")\n\nprint(\"The data type of a is {}\".format(type(a)))          \nprint(\"The shape of a is {}.\".format(a.shape))    \n\nprint(\"The shape of a is {}.\".format(b.shape))               \n\nprint(\"\\nArrays are created with pre-defined functions\\n\")\n\nc = np.zeros((3,2))   # Create an array of all zeros\nprint(\"An all-zero array\\n\")\nprint(c)           \n\nd = np.ones((3,2))    # Create an array of all ones\nprint(\"\\nAn all ones array\\n\")\nprint(d)\n\ne = np.full((2,2), 7)  # Create a constant array\nprint(\"\\nA constant \\n\")\nprint(e)\n\nf = np.eye(2)         # Create a 2x2 identity matrix\nprint(\"\\nA 2x2 identity  array\\n\")\nprint(f)      ", 
            "outputs": [
                {
                    "name": "stdout", 
                    "output_type": "stream", 
                    "text": "Arrays are created from nested Python lists\n\nThe data type of a is <class 'numpy.ndarray'>\nThe shape of a is (3,).\nThe shape of a is (2, 3).\n\nArrays are created with pre-defined functions\n\nAn all-zero array\n\n[[ 0.  0.]\n [ 0.  0.]\n [ 0.  0.]]\n\nAn all ones array\n\n[[ 1.  1.]\n [ 1.  1.]\n [ 1.  1.]]\n\nA constant \n\n[[ 7.  7.]\n [ 7.  7.]]\n\nA 2x2 identity  array\n\n[[ 1.  0.]\n [ 0.  1.]]\n"
                }, 
                {
                    "name": "stderr", 
                    "output_type": "stream", 
                    "text": "/usr/local/src/conda3_runtime.v27/4.1.1/lib/python3.5/site-packages/numpy/core/numeric.py:301: FutureWarning: in the future, full((2, 2), 7) will return an array of dtype('int64')\n  format(shape, fill_value, array(fill_value).dtype), FutureWarning)\n"
                }
            ], 
            "cell_type": "code"
        }, 
        {
            "source": "###  Array indexing<!--3.1.2  Array indexing-->\nNumpy offers several ways to index into arrays.\n\n<strong>Slicing:</strong>Numpy arrays can be sliced. Since arrays may be multidimensional, you must specify a slice for each dimension of the array:", 
            "metadata": {}, 
            "cell_type": "markdown"
        }, 
        {
            "execution_count": 3, 
            "metadata": {}, 
            "source": "import numpy as np\n\na = np.array([[1,2,3,4], [5,6,7,8], [9,10,11,12]])\n\n# Slice the subarray consisting of the first 2 rows and columns 1 and 2; \nb = a[:2, 1:3]\n\n# A slice of an array is a view into the same data, so modifying it\n# will modify the original array.\n\nprint(a[0, 1])   \nb[0, 0] = 77     # b[0, 0] is the same piece of data as a[0, 1]\nprint(a[0, 1])   ", 
            "outputs": [
                {
                    "name": "stdout", 
                    "output_type": "stream", 
                    "text": "2\n77\n"
                }
            ], 
            "cell_type": "code"
        }, 
        {
            "source": "You can also mix integer indexing with slice indexing to  yield an array of lower rank than the original array.", 
            "metadata": {}, 
            "cell_type": "markdown"
        }, 
        {
            "execution_count": 4, 
            "metadata": {}, 
            "source": "row_r1 = a[1, :]    # Rank 1 view of the second row of a\nprint(row_r1, row_r1.shape) \n\n# We can make the same distinction when accessing columns of an array:\ncol_r1 = a[:, 1]\nprint(col_r1, col_r1.shape)  \n", 
            "outputs": [
                {
                    "name": "stdout", 
                    "output_type": "stream", 
                    "text": "[5 6 7 8] (4,)\n[77  6 10] (3,)\n"
                }
            ], 
            "cell_type": "code"
        }, 
        {
            "source": "<strong>Integer array indexing:</strong> When you index into numpy arrays using slicing, the resulting array view will always be a subarray of the original array. In contrast, integer array indexing allows you to construct arbitrary arrays using the data from another array. Here is an example:", 
            "metadata": {}, 
            "cell_type": "markdown"
        }, 
        {
            "execution_count": 5, 
            "metadata": {}, 
            "source": "print(a) \n\n\n# The returned array will have shape (3,) by choosing elements \n# at [0,1],[1,1], and [2,0]\nprint(a[[0, 1, 2], [0, 1, 0]])\n\n# The above example of integer array indexing is equivalent to this:\nprint(np.array([a[0, 0], a[1, 1], a[2, 0]]))\n\n# When using integer array indexing, you can reuse the same\n# element from the source array:\nprint(a[[0, 0], [1, 1]])  # Prints \"[2 2]\"\n\n# Equivalent to the previous integer array indexing example\nprint(np.array([a[0, 1], a[0, 1]])) ", 
            "outputs": [
                {
                    "name": "stdout", 
                    "output_type": "stream", 
                    "text": "[[ 1 77  3  4]\n [ 5  6  7  8]\n [ 9 10 11 12]]\n[1 6 9]\n[1 6 9]\n[77 77]\n[77 77]\n"
                }
            ], 
            "cell_type": "code"
        }, 
        {
            "source": "<strong>Boolean array indexing:</strong> Boolean array indexing lets you pick out arbitrary elements of an array. Frequently this type of indexing is used to select the elements of an array that satisfy some condition. Here is an example:", 
            "metadata": {}, 
            "cell_type": "markdown"
        }, 
        {
            "execution_count": 6, 
            "metadata": {}, 
            "source": "# Find the elements of a that are bigger than 2;this returns a \n# numpy array of Booleans of the same shape as a, where each \n# slot of bool_idx tells whether that element of a is > 5.\n\nbool_idx = (a > 5)  \nprint(bool_idx)     \n\n# We use boolean array indexing to construct a rank 1 array consisting \n# of the elements of a corresponding to the True values of bool_idx\nprint(a[bool_idx])  \n\n# We can do all of the above in a single concise statement:\nprint(a[a > 5])", 
            "outputs": [
                {
                    "name": "stdout", 
                    "output_type": "stream", 
                    "text": "[[False  True False False]\n [False  True  True  True]\n [ True  True  True  True]]\n[77  6  7  8  9 10 11 12]\n[77  6  7  8  9 10 11 12]\n"
                }
            ], 
            "cell_type": "code"
        }, 
        {
            "source": "You can refer to [indexing documentation](https://docs.scipy.org/doc/numpy/reference/arrays.indexing.html) for further details about numpy array indexing.", 
            "metadata": {}, 
            "cell_type": "markdown"
        }, 
        {
            "source": "### Array math operations <!--3.1.3  Array math operations-->\n\nBasic mathematical functions operate elementwise on arrays, and are available both as operator overloads and as functions in the numpy module:\n\n", 
            "metadata": {}, 
            "cell_type": "markdown"
        }, 
        {
            "execution_count": 7, 
            "metadata": {}, 
            "source": "x = np.array([[1,2],[3,4]], dtype=np.float64)\ny = np.array([[5,6],[7,8]], dtype=np.float64)\n\nprint(\"Elementwise sum; both produce the array\")\nprint(x + y)\nprint(np.add(x, y))\n\nprint(\"Elementwise difference; both produce the array\")\nprint(x - y)\nprint(np.subtract(x, y))\n\nprint(\"Elementwise product; both produce the array\")\nprint(x * y)\nprint(np.multiply(x, y))\n\nprint(\"Elementwise division; both produce the array\")\nprint(x / y)\nprint(np.divide(x, y))\n\nprint(\"Elementwise square root; produces the array\")\nprint(np.sqrt(x))", 
            "outputs": [
                {
                    "name": "stdout", 
                    "output_type": "stream", 
                    "text": "Elementwise sum; both produce the array\n[[  6.   8.]\n [ 10.  12.]]\n[[  6.   8.]\n [ 10.  12.]]\nElementwise difference; both produce the array\n[[-4. -4.]\n [-4. -4.]]\n[[-4. -4.]\n [-4. -4.]]\nElementwise product; both produce the array\n[[  5.  12.]\n [ 21.  32.]]\n[[  5.  12.]\n [ 21.  32.]]\nElementwise division; both produce the array\n[[ 0.2         0.33333333]\n [ 0.42857143  0.5       ]]\n[[ 0.2         0.33333333]\n [ 0.42857143  0.5       ]]\nElementwise square root; produces the array\n[[ 1.          1.41421356]\n [ 1.73205081  2.        ]]\n"
                }
            ], 
            "cell_type": "code"
        }, 
        {
            "source": "To execute matrix multiplication,  We instead use the <kbd>dot</kbd> function to compute inner products of vectors, to multiply a vector by a matrix, and to multiply matrices. <kbd>dot</kbd> is available both as a function in the numpy module and as an instance method of array objects: ", 
            "metadata": {}, 
            "cell_type": "markdown"
        }, 
        {
            "execution_count": 8, 
            "metadata": {
                "scrolled": true
            }, 
            "source": "v = np.array([9,10])\nw = np.array([11, 12])\n\n# Inner product of vectors; both produce 219\nprint(v.dot(w))\nprint(np.dot(v, w))\n\n# Matrix / vector product; both produce the rank 1 array [29 67]\nprint(x.dot(v))\n\n# print(np.dot(x, v))\n\n# Matrix / matrix product; both produce the rank 2 array\nprint(x.dot(y))\n#print(np.dot(x, y))", 
            "outputs": [
                {
                    "name": "stdout", 
                    "output_type": "stream", 
                    "text": "219\n219\n[ 29.  67.]\n[[ 19.  22.]\n [ 43.  50.]]\n"
                }
            ], 
            "cell_type": "code"
        }, 
        {
            "source": "Numpy provides many useful functions for performing computations on arrays; Some useful function are <kbd>sum</kbd>, transpose <kbd>T</kbd>. The full list of mathematical functions provided by numpy in [the documentation](https://docs.scipy.org/doc/numpy/reference/routines.math.html). More functions for manipulating arrays can be found in [the documentation](https://docs.scipy.org/doc/numpy/reference/routines.array-manipulation.html).", 
            "metadata": {}, 
            "cell_type": "markdown"
        }, 
        {
            "execution_count": 9, 
            "metadata": {
                "scrolled": true
            }, 
            "source": "x = np.array([[1,2],[3,4]])\nprint(np.sum(x))  # Compute sum of all elements\nprint(np.sum(x, axis=0))  # Compute sum of each column\nprint(np.sum(x, axis=1))  # Compute sum of each row\n\nprint(x.T)  ", 
            "outputs": [
                {
                    "name": "stdout", 
                    "output_type": "stream", 
                    "text": "10\n[4 6]\n[3 7]\n[[1 3]\n [2 4]]\n"
                }
            ], 
            "cell_type": "code"
        }, 
        {
            "source": "### Broadcasting <!--3.1.4 Broadcasting-->\nBroadcasting is a powerful mechanism that allows numpy to work with arrays of different shapes when performing arithmetic operations. Frequently we have a smaller array and a larger array, and we want to use the smaller array multiple times to perform some operation on the larger array.\nFor example, suppose that we want to add a constant vector to each row of a matrix. We could do it like this:\n\n", 
            "metadata": {}, 
            "cell_type": "markdown"
        }, 
        {
            "execution_count": 10, 
            "metadata": {
                "scrolled": true
            }, 
            "source": "x = np.array([[1,2,3], [4,5,6], [7,8,9], [10, 11, 12]])\nv = np.array([1, 0, 1])\n\ny=x+v\nprint(y)", 
            "outputs": [
                {
                    "name": "stdout", 
                    "output_type": "stream", 
                    "text": "[[ 2  2  4]\n [ 5  5  7]\n [ 8  8 10]\n [11 11 13]]\n"
                }
            ], 
            "cell_type": "code"
        }, 
        {
            "source": "Broadcasting two arrays together follows these rules:\n\n1. If the arrays do not have the same rank, prepend the shape of the lower rank array with 1s until both shapes have the same length.\n2. The two arrays are said to be compatible in a dimension if they have the same size in the dimension, or if one of the arrays has size 1 in that dimension.\n3. The arrays can be broadcast together if they are compatible in all dimensions.\n4. After broadcasting, each array behaves as if it had shape equal to the elementwise maximum of shapes of the two input arrays.\n5. In any dimension where one array had size 1 and the other array had size greater than 1, the first array behaves as if it were copied along that dimension\n\nMore explanation for broadcasting arrays can be found in [the documentation](https://docs.scipy.org/doc/numpy/user/basics.broadcasting.html).", 
            "metadata": {}, 
            "cell_type": "markdown"
        }, 
        {
            "source": "### Numpy Excercises", 
            "metadata": {}, 
            "cell_type": "markdown"
        }, 
        {
            "source": "**<span style=\"color:red\"> Exercise 1: </span>** : *<span style=\"color:#0b486b\"> Create a vector with values ranging from 10 to 20 (inclusive) then reverse that vector (the first element becomes the last)  </span>*.\n", 
            "metadata": {}, 
            "cell_type": "markdown"
        }, 
        {
            "execution_count": null, 
            "metadata": {}, 
            "source": "# enter your own codes here\n", 
            "outputs": [], 
            "cell_type": "code"
        }, 
        {
            "source": "**<span style=\"color:red\"> Exercise 2: </span>** : *<span style=\"color:#0b486b\"> Create random vector of size 10, print the maximum value and its index, and replace that value by 0  </span>*.\nHint: Using *max* and *argmax* functions", 
            "metadata": {}, 
            "cell_type": "markdown"
        }, 
        {
            "execution_count": null, 
            "metadata": {}, 
            "source": "# enter your own codes here\n", 
            "outputs": [], 
            "cell_type": "code"
        }, 
        {
            "source": "**<span style=\"color:red\"> Exercise 3: </span>** : *<span style=\"color:#0b486b\"> Given two vectors: ages and heights as follows:   </span>*", 
            "metadata": {}, 
            "cell_type": "markdown"
        }, 
        {
            "execution_count": null, 
            "metadata": {}, 
            "source": "ages = np.random.randint(low=20, high=60, size=10)\nheights = np.random.randint(low=150, high=200, size=10)\nprint(ages)\nprint(heights)", 
            "outputs": [], 
            "cell_type": "code"
        }, 
        {
            "source": "*<span style=\"color:#0b486b\"> Order(ascendingly) the people according to their age and print their corresponding heights. </span>* Hints: using *argsort* function.", 
            "metadata": {}, 
            "cell_type": "markdown"
        }, 
        {
            "execution_count": null, 
            "metadata": {}, 
            "source": "# enter your own codes here\n", 
            "outputs": [], 
            "cell_type": "code"
        }, 
        {
            "source": "## Matplotlib <!--3.2 Matplotlib-->", 
            "metadata": {}, 
            "cell_type": "markdown"
        }, 
        {
            "source": "Matplotlib can be used for creating plots and charts. The library is generally used as follows:\n- Call a plotting function with some data (e.g. .plot()).\n- Call many functions to setup the properties of the plot (e.g. labels and colors).\n- Make the plot visible (e.g. .show()).\n\nYou can create a simple line plot from one dimensional data as follows:", 
            "metadata": {}, 
            "cell_type": "markdown"
        }, 
        {
            "execution_count": null, 
            "metadata": {}, 
            "source": "# basic line plot\nimport matplotlib.pyplot as plt\nimport numpy\nmyarray = numpy.array([1, 2, 3])\nplt.plot(myarray)\nplt.xlabel('X axis')\nplt.ylabel('Y axis')\nplt.show()", 
            "outputs": [], 
            "cell_type": "code"
        }, 
        {
            "source": "You also can creat a scatter plot from two dimensional data.", 
            "metadata": {}, 
            "cell_type": "markdown"
        }, 
        {
            "execution_count": null, 
            "metadata": {}, 
            "source": "# basic scatter plot\nimport matplotlib.pyplot as plt\nimport numpy\nx = numpy.array([1, 2, 3])\ny = numpy.array([2, 4, 6])\nplt.scatter(x,y)\nplt.xlabel('X axis')\nplt.ylabel('Y axis')\nplt.show()", 
            "outputs": [], 
            "cell_type": "code"
        }, 
        {
            "source": "There are many more plot types and many more properties that can be set on a plot. See [matplotlib for beginner](http://matplotlib.org/users/beginner.html) and [examples](https://matplotlib.org/examples/index.html) to learn more about the Matplotlib API.", 
            "metadata": {}, 
            "cell_type": "markdown"
        }, 
        {
            "source": "### Matplotlib Excercises", 
            "metadata": {}, 
            "cell_type": "markdown"
        }, 
        {
            "source": "**<span style=\"color:red\"> Exercise 1: </span>** : *<span style=\"color:#0b486b\"> Create a plot of  [sigmoid function](https://en.wikipedia.org/wiki/Sigmoid_function) on the interval  [\u22126,6]  using 256 points. Remember to label the axes! In the following code, we give you the code for sigmoid function.\n</span>*. Hint: using the *linspace* function in numpy to create array values for x axis.\n", 
            "metadata": {}, 
            "cell_type": "markdown"
        }, 
        {
            "execution_count": null, 
            "metadata": {
                "scrolled": true
            }, 
            "source": "import numpy as np\nimport matplotlib.pyplot as plt\n\n# def sigmoid(x,a,b):\n# # sigmoid function with parameters a = center; b = width\n#     return 1/(1+np.exp(-(x-a)/b))\n\ndef sigmoid(x):\n    return 1/(1+np.exp(-x))\n", 
            "outputs": [], 
            "cell_type": "code"
        }, 
        {
            "execution_count": null, 
            "metadata": {}, 
            "source": "# Enter you code here           \n", 
            "outputs": [], 
            "cell_type": "code"
        }, 
        {
            "source": "## Pandas <!--3.3 Pandas-->", 
            "metadata": {}, 
            "cell_type": "markdown"
        }, 
        {
            "source": "Pandas provides data structures and functionality to quickly manipulate and analyze data. The\nkey to understanding Pandas for machine learning is understanding the **Series** and **DataFrame**\ndata structures.", 
            "metadata": {}, 
            "cell_type": "markdown"
        }, 
        {
            "source": "### Series <!--3.3.1 Series-->\nA series is a one dimensional array of data where the rows are labeled using a time axis. You can access the data in a series like a NumPy array or like a dictionary.\n", 
            "metadata": {}, 
            "cell_type": "markdown"
        }, 
        {
            "execution_count": 12, 
            "metadata": {}, 
            "source": "# series\nimport numpy\nimport pandas\nmyarray = numpy.array([1, 2, 3])\nrownames = ['a', 'b', 'c']\nmyseries = pandas.Series(myarray, index=rownames)\nprint(myseries)\n\nprint(myseries[0])\nprint(myseries['a'])", 
            "outputs": [
                {
                    "name": "stdout", 
                    "output_type": "stream", 
                    "text": "a    1\nb    2\nc    3\ndtype: int64\n1\n1\n"
                }
            ], 
            "cell_type": "code"
        }, 
        {
            "source": "### DataFrame <!--3.3.2 DataFrame-->\nA data frame is a multi-dimensional array where the rows and the columns can be labeled.A data frame can be indexed using column names.", 
            "metadata": {}, 
            "cell_type": "markdown"
        }, 
        {
            "execution_count": 13, 
            "metadata": {}, 
            "source": "# dataframe\nimport numpy\nimport pandas\nmyarray = numpy.array([[1, 2, 3], [4, 5, 6]])\nrownames = ['a', 'b']\ncolnames = ['one', 'two', 'three']\nmydataframe = pandas.DataFrame(myarray, index=rownames, columns=colnames)\nprint(mydataframe)\n\nprint(\"method 1:\")\nprint(\"one column:\\n%s\" % mydataframe['one'])\n\nprint(\"method 2:\")\nprint(\"one column:\\n%s\" % mydataframe.one)", 
            "outputs": [
                {
                    "name": "stdout", 
                    "output_type": "stream", 
                    "text": "   one  two  three\na    1    2      3\nb    4    5      6\nmethod 1:\none column:\na    1\nb    4\nName: one, dtype: int64\nmethod 2:\none column:\na    1\nb    4\nName: one, dtype: int64\n"
                }
            ], 
            "cell_type": "code"
        }, 
        {
            "source": "Examples for manipulation with data using can be found at [Pandas cookbook](http://pandas.pydata.org/pandas-docs/stable/cookbook.html) which provides many short and nice examples.", 
            "metadata": {}, 
            "cell_type": "markdown"
        }, 
        {
            "source": "## Scipy <!--3.4 Scipy-->", 
            "metadata": {}, 
            "cell_type": "markdown"
        }, 
        {
            "source": "Optimization (finding minima or maxima of a function) is a package which is usual used in machine learning. Here we will only look at a few very simple cases.\n\nTo use the optimization module in scipy first include the optimize module:", 
            "metadata": {}, 
            "cell_type": "markdown"
        }, 
        {
            "execution_count": 14, 
            "metadata": {}, 
            "source": "from scipy import optimize\n", 
            "outputs": [], 
            "cell_type": "code"
        }, 
        {
            "source": "Let's first look at how to find the minima of a simple function of a single variable:", 
            "metadata": {}, 
            "cell_type": "markdown"
        }, 
        {
            "execution_count": 15, 
            "metadata": {}, 
            "source": "def f(x):\n    return 4*x**3 + (x-2)**2 + x**4", 
            "outputs": [], 
            "cell_type": "code"
        }, 
        {
            "source": "which can be plotted as ", 
            "metadata": {}, 
            "cell_type": "markdown"
        }, 
        {
            "execution_count": 16, 
            "metadata": {}, 
            "source": "import numpy as np\nimport matplotlib.pyplot as plt\n\nfig, ax  = plt.subplots()\nx = np.linspace(-5, 3, 100)\nax.plot(x, f(x))\nplt.show()\n", 
            "outputs": [
                {
                    "name": "stderr", 
                    "output_type": "stream", 
                    "text": "/usr/local/src/conda3_runtime.v27/4.1.1/lib/python3.5/site-packages/matplotlib/__init__.py:872: UserWarning: axes.color_cycle is deprecated and replaced with axes.prop_cycle; please use the latter.\n  warnings.warn(self.msg_depr % (key, alt_key))\n"
                }, 
                {
                    "data": {
                        "text/plain": "<matplotlib.figure.Figure at 0x7feff40c6438>", 
                        "image/png": "[encoded data removed]"
                    }, 
                    "metadata": {}, 
                    "output_type": "display_data"
                }
            ], 
            "cell_type": "code"
        }, 
        {
            "source": "We can use the *fmin_bfgs* function to find the minima of a function:\n\n", 
            "metadata": {}, 
            "cell_type": "markdown"
        }, 
        {
            "execution_count": 17, 
            "metadata": {}, 
            "source": "x_min = optimize.fmin_bfgs(f, -2)\nprint(x_min )", 
            "outputs": [
                {
                    "name": "stdout", 
                    "output_type": "stream", 
                    "text": "Optimization terminated successfully.\n         Current function value: -3.506641\n         Iterations: 6\n         Function evaluations: 30\n         Gradient evaluations: 10\n[-2.67298167]\n"
                }
            ], 
            "cell_type": "code"
        }, 
        {
            "source": "For a more detailed introduction to optimization with SciPy see: [Scipy Optimization](http://scipy-lectures.github.com/advanced/mathematical_optimization/index.html)", 
            "metadata": {}, 
            "cell_type": "markdown"
        }, 
        {
            "source": "---\n# Install and Get Started with Scikit-Learn<!--span style=\"color:#0b486b\">4. Install and Get Started with Scikit-Learn</span-->", 
            "metadata": {}, 
            "cell_type": "markdown"
        }, 
        {
            "execution_count": 18, 
            "metadata": {}, 
            "source": "import sklearn\n\nprint(\"The scikit-learn version is {}.\".format(sklearn.__version__))\n", 
            "outputs": [
                {
                    "name": "stdout", 
                    "output_type": "stream", 
                    "text": "The scikit-learn version is 0.17.1.\n"
                }
            ], 
            "cell_type": "code"
        }, 
        {
            "source": "## A brief introduction Scikit-Learn<!--4.3 A brief introduction Scikit-Learn-->\n\n\n[Scikit-Learn](http://github.com/scikit-learn/scikit-learn) is a Python package designed to give access to **well-known** machine learning algorithms within Python code, through a **clean, well-thought-out API**. It has been built by hundreds of contributors from around the world, and is used across industry and academia.\n\nScikit-Learn is built upon Python's [NumPy (Numerical Python)](http://numpy.org) and [SciPy (Scientific Python)](http://scipy.org) libraries, which enable efficient in-core numerical and scientific computation within Python. As such, scikit-learn is not specifically designed for extremely large datasets, though there is [some work](https://github.com/ogrisel/parallel_ml_tutorial) in this area.\n\n###  Dataset in Scikit-learn <!--span style=\"color:#0b486b\">Dataset in Scikit-learn</span-->\n\nMachine learning is about creating models from data: for that reason, we'll start by\ndiscussing how data can be represented in order to be understood by the computer.  Along\nwith this, we'll build on our matplotlib examples from the previous section and show some\nexamples of how to visualize data.\n\nMost machine learning algorithms implemented in scikit-learn expect data to be stored in a\n**two-dimensional array or matrix**.  The arrays can be\neither ``numpy`` arrays, or in some cases ``scipy.sparse`` matrices.\nThe size of the array is expected to be `[n_samples, n_features]`\n\n- **n_samples:**   The number of samples: each sample is an item to process (e.g. classify).\n  A sample can be a document, a picture, a sound, a video, an astronomical object,\n  a row in database or CSV file,\n  or whatever you can describe with a fixed set of quantitative traits.\n- **n_features:**  The number of features or distinct traits that can be used to describe each\n  item in a quantitative manner.  Features are generally real-valued, but may be boolean or\n  discrete-valued in some cases.\n\nThe number of features must be fixed in advance. However it can be very high dimensional\n(e.g. millions of features) with most of them being zeros for a given sample. This is a case\nwhere `scipy.sparse` matrices can be useful, in that they are\nmuch more memory-efficient than numpy arrays.\n\nScikit-Learn package include several datasets that you can load and start playing with them. You can consult with the documentation for details of the provided datasets. ", 
            "metadata": {}, 
            "cell_type": "markdown"
        }, 
        {
            "source": "---\n**For example, let's look at the [iris dataset.](http://scikit-learn.org/stable/auto_examples/datasets/plot_iris_dataset.html) whose description and historical context can further be found [here](https://en.wikipedia.org/wiki/Iris_flower_data_set)**\n\n*<span style=\"color:#0b486b\">First, we use the command `from sklearn import datasets` to import existing datasets which have been prepared in advance from scikit-learn package as well its loading utilities. </span>*", 
            "metadata": {}, 
            "cell_type": "markdown"
        }, 
        {
            "execution_count": 19, 
            "metadata": {}, 
            "source": "from sklearn import datasets", 
            "outputs": [], 
            "cell_type": "code"
        }, 
        {
            "source": "*<span style=\"color:#0b486b\"> The following commands then load the iris dataset, examine its structure, description, data and so forth. You are highly encouraged to spend time to get familiar with the syntax and properties of the data, such as examining the values of 'target_names', 'data', etc. </span>*", 
            "metadata": {}, 
            "cell_type": "markdown"
        }, 
        {
            "execution_count": 20, 
            "metadata": {}, 
            "source": "# load iris dataset\niris = datasets.load_iris()\n\n# examine its keys\niris.keys()", 
            "outputs": [
                {
                    "execution_count": 20, 
                    "data": {
                        "text/plain": "dict_keys(['data', 'target', 'DESCR', 'feature_names', 'target_names'])"
                    }, 
                    "metadata": {}, 
                    "output_type": "execute_result"
                }
            ], 
            "cell_type": "code"
        }, 
        {
            "execution_count": 21, 
            "metadata": {}, 
            "source": "\n# print out its description\nprint(iris['DESCR'])", 
            "outputs": [
                {
                    "name": "stdout", 
                    "output_type": "stream", 
                    "text": "Iris Plants Database\n\nNotes\n-----\nData Set Characteristics:\n    :Number of Instances: 150 (50 in each of three classes)\n    :Number of Attributes: 4 numeric, predictive attributes and the class\n    :Attribute Information:\n        - sepal length in cm\n        - sepal width in cm\n        - petal length in cm\n        - petal width in cm\n        - class:\n                - Iris-Setosa\n                - Iris-Versicolour\n                - Iris-Virginica\n    :Summary Statistics:\n\n    ============== ==== ==== ======= ===== ====================\n                    Min  Max   Mean    SD   Class Correlation\n    ============== ==== ==== ======= ===== ====================\n    sepal length:   4.3  7.9   5.84   0.83    0.7826\n    sepal width:    2.0  4.4   3.05   0.43   -0.4194\n    petal length:   1.0  6.9   3.76   1.76    0.9490  (high!)\n    petal width:    0.1  2.5   1.20  0.76     0.9565  (high!)\n    ============== ==== ==== ======= ===== ====================\n\n    :Missing Attribute Values: None\n    :Class Distribution: 33.3% for each of 3 classes.\n    :Creator: R.A. Fisher\n    :Donor: Michael Marshall (MARSHALL%PLU@io.arc.nasa.gov)\n    :Date: July, 1988\n\nThis is a copy of UCI ML iris datasets.\nhttp://archive.ics.uci.edu/ml/datasets/Iris\n\nThe famous Iris database, first used by Sir R.A Fisher\n\nThis is perhaps the best known database to be found in the\npattern recognition literature.  Fisher's paper is a classic in the field and\nis referenced frequently to this day.  (See Duda & Hart, for example.)  The\ndata set contains 3 classes of 50 instances each, where each class refers to a\ntype of iris plant.  One class is linearly separable from the other 2; the\nlatter are NOT linearly separable from each other.\n\nReferences\n----------\n   - Fisher,R.A. \"The use of multiple measurements in taxonomic problems\"\n     Annual Eugenics, 7, Part II, 179-188 (1936); also in \"Contributions to\n     Mathematical Statistics\" (John Wiley, NY, 1950).\n   - Duda,R.O., & Hart,P.E. (1973) Pattern Classification and Scene Analysis.\n     (Q327.D83) John Wiley & Sons.  ISBN 0-471-22361-1.  See page 218.\n   - Dasarathy, B.V. (1980) \"Nosing Around the Neighborhood: A New System\n     Structure and Classification Rule for Recognition in Partially Exposed\n     Environments\".  IEEE Transactions on Pattern Analysis and Machine\n     Intelligence, Vol. PAMI-2, No. 1, 67-71.\n   - Gates, G.W. (1972) \"The Reduced Nearest Neighbor Rule\".  IEEE Transactions\n     on Information Theory, May 1972, 431-433.\n   - See also: 1988 MLC Proceedings, 54-64.  Cheeseman et al\"s AUTOCLASS II\n     conceptual clustering system finds 3 classes in the data.\n   - Many, many more ...\n\n"
                }
            ], 
            "cell_type": "code"
        }, 
        {
            "execution_count": 22, 
            "metadata": {}, 
            "source": "X = iris['data']\nX.shape", 
            "outputs": [
                {
                    "execution_count": 22, 
                    "data": {
                        "text/plain": "(150, 4)"
                    }, 
                    "metadata": {}, 
                    "output_type": "execute_result"
                }
            ], 
            "cell_type": "code"
        }, 
        {
            "source": "### Excercises", 
            "metadata": {}, 
            "cell_type": "markdown"
        }, 
        {
            "source": "**<span style=\"color:red\"> Exercise 1: </span>** : *<span style=\"color:#0b486b\"> The the following sandbox cell, or create your own, to explore and build your understanding  </span>*.", 
            "metadata": {}, 
            "cell_type": "markdown"
        }, 
        {
            "execution_count": null, 
            "metadata": {}, 
            "source": "# sand box cell -- enter your various commands here to explore and build your understanding,\n# e.g., try \"print(iris.target_names)\"\n", 
            "outputs": [], 
            "cell_type": "code"
        }, 
        {
            "source": "**<span style=\"color:red\"> Exercise 2: </span>** : *<span style=\"color:#0b486b\"> The documentation from scikit-learn [here](http://scikit-learn.org/stable/datasets/index.html) describes several other avaiable datasets. Write your own codes to load and examine the digits recognition dataset with the load_digits() command  </span>*.", 
            "metadata": {}, 
            "cell_type": "markdown"
        }, 
        {
            "execution_count": null, 
            "metadata": {}, 
            "source": "# enter your own codes here\n", 
            "outputs": [], 
            "cell_type": "code"
        }, 
        {
            "source": "## Further reading <!--4.4 Further reading-->\n* More tutorials, videos on machine learning with scikit-learn can be found at [Introduction to machine learning with scikit-learn](https://github.com/justmarkham/scikit-learn-videos).\n\n* Tutorials and instructions related to Python can be found at [Python basics](\nhttp://prada-research.net/~viet/sit744/w00/00-python_basics.html). The notebook can be downloaded from [here](http://prada-research.net/~viet/sit744/w00/week_00.zip) for you to exercise\n\n* Short and concise introduction to Python 3 is introduced in the [cheatsheet](http://prada-research.net/~viet/sit744/w00/python3-cheatsheet.pdf)\n", 
            "metadata": {}, 
            "cell_type": "markdown"
        }
    ], 
    "nbformat_minor": 2
}